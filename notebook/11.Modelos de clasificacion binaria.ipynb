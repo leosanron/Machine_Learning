{
 "cells": [
  {
   "cell_type": "markdown",
   "id": "0d706d7a-5302-4c66-9583-ba68b5f872f2",
   "metadata": {
    "tags": []
   },
   "source": [
    "# Modelos de clasificacion"
   ]
  },
  {
   "cell_type": "code",
   "execution_count": 8,
   "id": "c324bf16-0a25-48e5-b19a-38723ec4caf3",
   "metadata": {},
   "outputs": [],
   "source": [
    "import os, sys\n",
    "import pandas as pd \n",
    "import numpy as np \n",
    "import seaborn as sns\n",
    "import pandas_gbq\n",
    "import matplotlib.pyplot as plt \n"
   ]
  },
  {
   "cell_type": "code",
   "execution_count": 9,
   "id": "c1d4235a-9d5b-4b6a-978c-033a974433ac",
   "metadata": {},
   "outputs": [],
   "source": [
    "#Definir las rutas de los directorios \n",
    "from pathlib import Path\n",
    "current_dir = Path('.').resolve()\n",
    "project_dir = Path(current_dir).parent "
   ]
  },
  {
   "cell_type": "code",
   "execution_count": 10,
   "id": "973999f3-0114-4a4d-8a13-b87d3631b750",
   "metadata": {},
   "outputs": [
    {
     "data": {
      "text/html": [
       "<div>\n",
       "<style scoped>\n",
       "    .dataframe tbody tr th:only-of-type {\n",
       "        vertical-align: middle;\n",
       "    }\n",
       "\n",
       "    .dataframe tbody tr th {\n",
       "        vertical-align: top;\n",
       "    }\n",
       "\n",
       "    .dataframe thead th {\n",
       "        text-align: right;\n",
       "    }\n",
       "</style>\n",
       "<table border=\"1\" class=\"dataframe\">\n",
       "  <thead>\n",
       "    <tr style=\"text-align: right;\">\n",
       "      <th></th>\n",
       "      <th>unique_key</th>\n",
       "      <th>taxi_id</th>\n",
       "      <th>trip_start_timestamp</th>\n",
       "      <th>trip_end_timestamp</th>\n",
       "      <th>trip_seconds</th>\n",
       "      <th>trip_miles</th>\n",
       "      <th>pickup_census_tract</th>\n",
       "      <th>dropoff_census_tract</th>\n",
       "      <th>pickup_community_area</th>\n",
       "      <th>dropoff_community_area</th>\n",
       "      <th>...</th>\n",
       "      <th>extras</th>\n",
       "      <th>trip_total</th>\n",
       "      <th>payment_type</th>\n",
       "      <th>company</th>\n",
       "      <th>pickup_latitude</th>\n",
       "      <th>pickup_longitude</th>\n",
       "      <th>pickup_location</th>\n",
       "      <th>dropoff_latitude</th>\n",
       "      <th>dropoff_longitude</th>\n",
       "      <th>dropoff_location</th>\n",
       "    </tr>\n",
       "  </thead>\n",
       "  <tbody>\n",
       "    <tr>\n",
       "      <th>0</th>\n",
       "      <td>8f7085c0a9632f3c462c5543cb9df420df1f4029</td>\n",
       "      <td>c51889ed8a7b4e546482f2bbe16bee57680f70542e78a7...</td>\n",
       "      <td>2016-10-23 16:45:00+00:00</td>\n",
       "      <td>2016-10-23 17:15:00+00:00</td>\n",
       "      <td>1601</td>\n",
       "      <td>13.6</td>\n",
       "      <td>&lt;NA&gt;</td>\n",
       "      <td>&lt;NA&gt;</td>\n",
       "      <td>&lt;NA&gt;</td>\n",
       "      <td>&lt;NA&gt;</td>\n",
       "      <td>...</td>\n",
       "      <td>0.0</td>\n",
       "      <td>0.01</td>\n",
       "      <td>Cash</td>\n",
       "      <td>303 Taxi</td>\n",
       "      <td>NaN</td>\n",
       "      <td>NaN</td>\n",
       "      <td>None</td>\n",
       "      <td>NaN</td>\n",
       "      <td>NaN</td>\n",
       "      <td>None</td>\n",
       "    </tr>\n",
       "    <tr>\n",
       "      <th>1</th>\n",
       "      <td>9414ae6ac589eb8c92065bd8926aaa332fb62283</td>\n",
       "      <td>c51889ed8a7b4e546482f2bbe16bee57680f70542e78a7...</td>\n",
       "      <td>2016-10-23 17:30:00+00:00</td>\n",
       "      <td>2016-10-23 17:45:00+00:00</td>\n",
       "      <td>783</td>\n",
       "      <td>3.8</td>\n",
       "      <td>&lt;NA&gt;</td>\n",
       "      <td>&lt;NA&gt;</td>\n",
       "      <td>&lt;NA&gt;</td>\n",
       "      <td>&lt;NA&gt;</td>\n",
       "      <td>...</td>\n",
       "      <td>0.0</td>\n",
       "      <td>14.95</td>\n",
       "      <td>Credit Card</td>\n",
       "      <td>303 Taxi</td>\n",
       "      <td>NaN</td>\n",
       "      <td>NaN</td>\n",
       "      <td>None</td>\n",
       "      <td>NaN</td>\n",
       "      <td>NaN</td>\n",
       "      <td>None</td>\n",
       "    </tr>\n",
       "    <tr>\n",
       "      <th>2</th>\n",
       "      <td>a09cc3a425b81b87b990721a767da373364496a0</td>\n",
       "      <td>25f108dbdee2f40abf533ec54828d51019935abcf13c9a...</td>\n",
       "      <td>2018-01-14 15:15:00+00:00</td>\n",
       "      <td>2018-01-14 15:30:00+00:00</td>\n",
       "      <td>593</td>\n",
       "      <td>1.1</td>\n",
       "      <td>&lt;NA&gt;</td>\n",
       "      <td>&lt;NA&gt;</td>\n",
       "      <td>&lt;NA&gt;</td>\n",
       "      <td>&lt;NA&gt;</td>\n",
       "      <td>...</td>\n",
       "      <td>0.0</td>\n",
       "      <td>6.80</td>\n",
       "      <td>Cash</td>\n",
       "      <td>303 Taxi</td>\n",
       "      <td>NaN</td>\n",
       "      <td>NaN</td>\n",
       "      <td>None</td>\n",
       "      <td>NaN</td>\n",
       "      <td>NaN</td>\n",
       "      <td>None</td>\n",
       "    </tr>\n",
       "    <tr>\n",
       "      <th>3</th>\n",
       "      <td>ce18b8ad09a687248fdf69f35e31dc6bd926effd</td>\n",
       "      <td>28cc6d01750f2d536f164256e6a563ac6e8031e88e8519...</td>\n",
       "      <td>2018-01-04 07:30:00+00:00</td>\n",
       "      <td>2018-01-04 07:30:00+00:00</td>\n",
       "      <td>305</td>\n",
       "      <td>1.2</td>\n",
       "      <td>&lt;NA&gt;</td>\n",
       "      <td>&lt;NA&gt;</td>\n",
       "      <td>&lt;NA&gt;</td>\n",
       "      <td>&lt;NA&gt;</td>\n",
       "      <td>...</td>\n",
       "      <td>0.0</td>\n",
       "      <td>5.20</td>\n",
       "      <td>Cash</td>\n",
       "      <td>303 Taxi</td>\n",
       "      <td>NaN</td>\n",
       "      <td>NaN</td>\n",
       "      <td>None</td>\n",
       "      <td>NaN</td>\n",
       "      <td>NaN</td>\n",
       "      <td>None</td>\n",
       "    </tr>\n",
       "    <tr>\n",
       "      <th>4</th>\n",
       "      <td>37c4d9d1f0298df2d8151d2ad6f9a5c0306d10ff</td>\n",
       "      <td>28cc6d01750f2d536f164256e6a563ac6e8031e88e8519...</td>\n",
       "      <td>2018-01-04 08:00:00+00:00</td>\n",
       "      <td>2018-01-04 08:00:00+00:00</td>\n",
       "      <td>4</td>\n",
       "      <td>0.0</td>\n",
       "      <td>&lt;NA&gt;</td>\n",
       "      <td>&lt;NA&gt;</td>\n",
       "      <td>&lt;NA&gt;</td>\n",
       "      <td>&lt;NA&gt;</td>\n",
       "      <td>...</td>\n",
       "      <td>0.0</td>\n",
       "      <td>2.00</td>\n",
       "      <td>Cash</td>\n",
       "      <td>303 Taxi</td>\n",
       "      <td>NaN</td>\n",
       "      <td>NaN</td>\n",
       "      <td>None</td>\n",
       "      <td>NaN</td>\n",
       "      <td>NaN</td>\n",
       "      <td>None</td>\n",
       "    </tr>\n",
       "  </tbody>\n",
       "</table>\n",
       "<p>5 rows × 23 columns</p>\n",
       "</div>"
      ],
      "text/plain": [
       "                                 unique_key  \\\n",
       "0  8f7085c0a9632f3c462c5543cb9df420df1f4029   \n",
       "1  9414ae6ac589eb8c92065bd8926aaa332fb62283   \n",
       "2  a09cc3a425b81b87b990721a767da373364496a0   \n",
       "3  ce18b8ad09a687248fdf69f35e31dc6bd926effd   \n",
       "4  37c4d9d1f0298df2d8151d2ad6f9a5c0306d10ff   \n",
       "\n",
       "                                             taxi_id  \\\n",
       "0  c51889ed8a7b4e546482f2bbe16bee57680f70542e78a7...   \n",
       "1  c51889ed8a7b4e546482f2bbe16bee57680f70542e78a7...   \n",
       "2  25f108dbdee2f40abf533ec54828d51019935abcf13c9a...   \n",
       "3  28cc6d01750f2d536f164256e6a563ac6e8031e88e8519...   \n",
       "4  28cc6d01750f2d536f164256e6a563ac6e8031e88e8519...   \n",
       "\n",
       "       trip_start_timestamp        trip_end_timestamp  trip_seconds  \\\n",
       "0 2016-10-23 16:45:00+00:00 2016-10-23 17:15:00+00:00          1601   \n",
       "1 2016-10-23 17:30:00+00:00 2016-10-23 17:45:00+00:00           783   \n",
       "2 2018-01-14 15:15:00+00:00 2018-01-14 15:30:00+00:00           593   \n",
       "3 2018-01-04 07:30:00+00:00 2018-01-04 07:30:00+00:00           305   \n",
       "4 2018-01-04 08:00:00+00:00 2018-01-04 08:00:00+00:00             4   \n",
       "\n",
       "   trip_miles  pickup_census_tract  dropoff_census_tract  \\\n",
       "0        13.6                 <NA>                  <NA>   \n",
       "1         3.8                 <NA>                  <NA>   \n",
       "2         1.1                 <NA>                  <NA>   \n",
       "3         1.2                 <NA>                  <NA>   \n",
       "4         0.0                 <NA>                  <NA>   \n",
       "\n",
       "   pickup_community_area  dropoff_community_area  ...  extras  trip_total  \\\n",
       "0                   <NA>                    <NA>  ...     0.0        0.01   \n",
       "1                   <NA>                    <NA>  ...     0.0       14.95   \n",
       "2                   <NA>                    <NA>  ...     0.0        6.80   \n",
       "3                   <NA>                    <NA>  ...     0.0        5.20   \n",
       "4                   <NA>                    <NA>  ...     0.0        2.00   \n",
       "\n",
       "   payment_type   company  pickup_latitude pickup_longitude pickup_location  \\\n",
       "0          Cash  303 Taxi              NaN              NaN            None   \n",
       "1   Credit Card  303 Taxi              NaN              NaN            None   \n",
       "2          Cash  303 Taxi              NaN              NaN            None   \n",
       "3          Cash  303 Taxi              NaN              NaN            None   \n",
       "4          Cash  303 Taxi              NaN              NaN            None   \n",
       "\n",
       "   dropoff_latitude  dropoff_longitude dropoff_location  \n",
       "0               NaN                NaN             None  \n",
       "1               NaN                NaN             None  \n",
       "2               NaN                NaN             None  \n",
       "3               NaN                NaN             None  \n",
       "4               NaN                NaN             None  \n",
       "\n",
       "[5 rows x 23 columns]"
      ]
     },
     "execution_count": 10,
     "metadata": {},
     "output_type": "execute_result"
    }
   ],
   "source": [
    "query = \"\"\"\n",
    "SELECT  \n",
    "  *\n",
    "FROM \n",
    "  `bigquery-public-data.chicago_taxi_trips.taxi_trips` \n",
    "\n",
    "LIMIT \n",
    "  10000\n",
    "\"\"\"\n",
    "df = pd.read_gbq(query)\n",
    "df.head()"
   ]
  },
  {
   "cell_type": "code",
   "execution_count": 11,
   "id": "660324cd-2f7a-4607-b26f-3b2dc60645ad",
   "metadata": {},
   "outputs": [
    {
     "data": {
      "text/plain": [
       "0.01     1503\n",
       "2.00      654\n",
       "6.00      174\n",
       "8.00      161\n",
       "7.00      153\n",
       "         ... \n",
       "53.70       1\n",
       "68.14       1\n",
       "62.40       1\n",
       "96.50       1\n",
       "33.55       1\n",
       "Name: trip_total, Length: 1075, dtype: int64"
      ]
     },
     "execution_count": 11,
     "metadata": {},
     "output_type": "execute_result"
    }
   ],
   "source": [
    "df[\"trip_total\"].value_counts()"
   ]
  },
  {
   "cell_type": "code",
   "execution_count": 12,
   "id": "ef7b544a-7074-4c9f-a265-aaf60b633832",
   "metadata": {},
   "outputs": [
    {
     "data": {
      "text/plain": [
       "Cash           6119\n",
       "Credit Card    2332\n",
       "Mobile           27\n",
       "Prcard           19\n",
       "Name: payment_type, dtype: int64"
      ]
     },
     "execution_count": 12,
     "metadata": {},
     "output_type": "execute_result"
    }
   ],
   "source": [
    "df = df[df[\"trip_total\"] >= 1.0]\n",
    "df[\"payment_type\"].value_counts()"
   ]
  },
  {
   "cell_type": "code",
   "execution_count": 13,
   "id": "c867605c-4f8d-47c8-919f-a3f4e116af1b",
   "metadata": {},
   "outputs": [
    {
     "data": {
      "text/plain": [
       "Cash           6119\n",
       "Credit Card    2332\n",
       "Name: payment_type, dtype: int64"
      ]
     },
     "execution_count": 13,
     "metadata": {},
     "output_type": "execute_result"
    }
   ],
   "source": [
    "df = df[(df[\"payment_type\"] == \"Cash\") | (df[\"payment_type\"] == \"Credit Card\")]\n",
    "df[\"payment_type\"].value_counts()"
   ]
  },
  {
   "cell_type": "code",
   "execution_count": 14,
   "id": "2938546b-d5e7-45da-8de9-da4ff59ed9f0",
   "metadata": {},
   "outputs": [
    {
     "data": {
      "text/html": [
       "<div>\n",
       "<style scoped>\n",
       "    .dataframe tbody tr th:only-of-type {\n",
       "        vertical-align: middle;\n",
       "    }\n",
       "\n",
       "    .dataframe tbody tr th {\n",
       "        vertical-align: top;\n",
       "    }\n",
       "\n",
       "    .dataframe thead th {\n",
       "        text-align: right;\n",
       "    }\n",
       "</style>\n",
       "<table border=\"1\" class=\"dataframe\">\n",
       "  <thead>\n",
       "    <tr style=\"text-align: right;\">\n",
       "      <th></th>\n",
       "      <th>trip_seconds</th>\n",
       "      <th>trip_miles</th>\n",
       "      <th>pickup_census_tract</th>\n",
       "      <th>dropoff_census_tract</th>\n",
       "      <th>pickup_community_area</th>\n",
       "      <th>dropoff_community_area</th>\n",
       "      <th>fare</th>\n",
       "      <th>tips</th>\n",
       "      <th>tolls</th>\n",
       "      <th>extras</th>\n",
       "      <th>trip_total</th>\n",
       "      <th>pickup_latitude</th>\n",
       "      <th>pickup_longitude</th>\n",
       "      <th>dropoff_latitude</th>\n",
       "      <th>dropoff_longitude</th>\n",
       "    </tr>\n",
       "  </thead>\n",
       "  <tbody>\n",
       "    <tr>\n",
       "      <th>1</th>\n",
       "      <td>783</td>\n",
       "      <td>3.8</td>\n",
       "      <td>&lt;NA&gt;</td>\n",
       "      <td>&lt;NA&gt;</td>\n",
       "      <td>&lt;NA&gt;</td>\n",
       "      <td>&lt;NA&gt;</td>\n",
       "      <td>13.0</td>\n",
       "      <td>1.95</td>\n",
       "      <td>NaN</td>\n",
       "      <td>0.0</td>\n",
       "      <td>14.95</td>\n",
       "      <td>NaN</td>\n",
       "      <td>NaN</td>\n",
       "      <td>NaN</td>\n",
       "      <td>NaN</td>\n",
       "    </tr>\n",
       "    <tr>\n",
       "      <th>2</th>\n",
       "      <td>593</td>\n",
       "      <td>1.1</td>\n",
       "      <td>&lt;NA&gt;</td>\n",
       "      <td>&lt;NA&gt;</td>\n",
       "      <td>&lt;NA&gt;</td>\n",
       "      <td>&lt;NA&gt;</td>\n",
       "      <td>6.8</td>\n",
       "      <td>0.00</td>\n",
       "      <td>NaN</td>\n",
       "      <td>0.0</td>\n",
       "      <td>6.80</td>\n",
       "      <td>NaN</td>\n",
       "      <td>NaN</td>\n",
       "      <td>NaN</td>\n",
       "      <td>NaN</td>\n",
       "    </tr>\n",
       "    <tr>\n",
       "      <th>3</th>\n",
       "      <td>305</td>\n",
       "      <td>1.2</td>\n",
       "      <td>&lt;NA&gt;</td>\n",
       "      <td>&lt;NA&gt;</td>\n",
       "      <td>&lt;NA&gt;</td>\n",
       "      <td>&lt;NA&gt;</td>\n",
       "      <td>5.2</td>\n",
       "      <td>0.00</td>\n",
       "      <td>NaN</td>\n",
       "      <td>0.0</td>\n",
       "      <td>5.20</td>\n",
       "      <td>NaN</td>\n",
       "      <td>NaN</td>\n",
       "      <td>NaN</td>\n",
       "      <td>NaN</td>\n",
       "    </tr>\n",
       "    <tr>\n",
       "      <th>4</th>\n",
       "      <td>4</td>\n",
       "      <td>0.0</td>\n",
       "      <td>&lt;NA&gt;</td>\n",
       "      <td>&lt;NA&gt;</td>\n",
       "      <td>&lt;NA&gt;</td>\n",
       "      <td>&lt;NA&gt;</td>\n",
       "      <td>2.0</td>\n",
       "      <td>0.00</td>\n",
       "      <td>NaN</td>\n",
       "      <td>0.0</td>\n",
       "      <td>2.00</td>\n",
       "      <td>NaN</td>\n",
       "      <td>NaN</td>\n",
       "      <td>NaN</td>\n",
       "      <td>NaN</td>\n",
       "    </tr>\n",
       "    <tr>\n",
       "      <th>5</th>\n",
       "      <td>1</td>\n",
       "      <td>0.0</td>\n",
       "      <td>&lt;NA&gt;</td>\n",
       "      <td>&lt;NA&gt;</td>\n",
       "      <td>&lt;NA&gt;</td>\n",
       "      <td>&lt;NA&gt;</td>\n",
       "      <td>2.0</td>\n",
       "      <td>0.00</td>\n",
       "      <td>NaN</td>\n",
       "      <td>0.0</td>\n",
       "      <td>2.00</td>\n",
       "      <td>NaN</td>\n",
       "      <td>NaN</td>\n",
       "      <td>NaN</td>\n",
       "      <td>NaN</td>\n",
       "    </tr>\n",
       "  </tbody>\n",
       "</table>\n",
       "</div>"
      ],
      "text/plain": [
       "   trip_seconds  trip_miles  pickup_census_tract  dropoff_census_tract  \\\n",
       "1           783         3.8                 <NA>                  <NA>   \n",
       "2           593         1.1                 <NA>                  <NA>   \n",
       "3           305         1.2                 <NA>                  <NA>   \n",
       "4             4         0.0                 <NA>                  <NA>   \n",
       "5             1         0.0                 <NA>                  <NA>   \n",
       "\n",
       "   pickup_community_area  dropoff_community_area  fare  tips  tolls  extras  \\\n",
       "1                   <NA>                    <NA>  13.0  1.95    NaN     0.0   \n",
       "2                   <NA>                    <NA>   6.8  0.00    NaN     0.0   \n",
       "3                   <NA>                    <NA>   5.2  0.00    NaN     0.0   \n",
       "4                   <NA>                    <NA>   2.0  0.00    NaN     0.0   \n",
       "5                   <NA>                    <NA>   2.0  0.00    NaN     0.0   \n",
       "\n",
       "   trip_total  pickup_latitude  pickup_longitude  dropoff_latitude  \\\n",
       "1       14.95              NaN               NaN               NaN   \n",
       "2        6.80              NaN               NaN               NaN   \n",
       "3        5.20              NaN               NaN               NaN   \n",
       "4        2.00              NaN               NaN               NaN   \n",
       "5        2.00              NaN               NaN               NaN   \n",
       "\n",
       "   dropoff_longitude  \n",
       "1                NaN  \n",
       "2                NaN  \n",
       "3                NaN  \n",
       "4                NaN  \n",
       "5                NaN  "
      ]
     },
     "execution_count": 14,
     "metadata": {},
     "output_type": "execute_result"
    }
   ],
   "source": [
    "# get only numeric colums \n",
    "numerics = ['int16','int32','int64','float16','float32','float64']\n",
    "num_df = df.select_dtypes(include=numerics)\n",
    "num_df.head()"
   ]
  },
  {
   "cell_type": "code",
   "execution_count": 20,
   "id": "e388baa1-83a1-48a5-bee0-4d17739921d2",
   "metadata": {},
   "outputs": [],
   "source": [
    "cols = ['trip_seconds', 'fare', 'extras', 'payment_type']\n",
    "data = df[~df['trip_seconds'].isna()][cols]  #estoy eliminando los Nan\n",
    "X = data[cols[:-1]].values    #Todas las columnas menos la utlima\n",
    "y = data[cols[-1]].values     #La ultima columna"
   ]
  },
  {
   "cell_type": "code",
   "execution_count": 22,
   "id": "a413a392-b7a6-4dc2-beee-28dfec915cdd",
   "metadata": {},
   "outputs": [
    {
     "data": {
      "text/html": [
       "<div>\n",
       "<style scoped>\n",
       "    .dataframe tbody tr th:only-of-type {\n",
       "        vertical-align: middle;\n",
       "    }\n",
       "\n",
       "    .dataframe tbody tr th {\n",
       "        vertical-align: top;\n",
       "    }\n",
       "\n",
       "    .dataframe thead th {\n",
       "        text-align: right;\n",
       "    }\n",
       "</style>\n",
       "<table border=\"1\" class=\"dataframe\">\n",
       "  <thead>\n",
       "    <tr style=\"text-align: right;\">\n",
       "      <th></th>\n",
       "      <th>trip_seconds</th>\n",
       "      <th>fare</th>\n",
       "      <th>extras</th>\n",
       "    </tr>\n",
       "  </thead>\n",
       "  <tbody>\n",
       "    <tr>\n",
       "      <th>count</th>\n",
       "      <td>8448.000000</td>\n",
       "      <td>8448.000000</td>\n",
       "      <td>8448.000000</td>\n",
       "    </tr>\n",
       "    <tr>\n",
       "      <th>mean</th>\n",
       "      <td>742.456321</td>\n",
       "      <td>12.191755</td>\n",
       "      <td>0.652876</td>\n",
       "    </tr>\n",
       "    <tr>\n",
       "      <th>std</th>\n",
       "      <td>1196.029764</td>\n",
       "      <td>13.915567</td>\n",
       "      <td>2.683721</td>\n",
       "    </tr>\n",
       "    <tr>\n",
       "      <th>min</th>\n",
       "      <td>0.000000</td>\n",
       "      <td>0.010000</td>\n",
       "      <td>0.000000</td>\n",
       "    </tr>\n",
       "    <tr>\n",
       "      <th>25%</th>\n",
       "      <td>270.000000</td>\n",
       "      <td>5.200000</td>\n",
       "      <td>0.000000</td>\n",
       "    </tr>\n",
       "    <tr>\n",
       "      <th>50%</th>\n",
       "      <td>498.000000</td>\n",
       "      <td>7.750000</td>\n",
       "      <td>0.000000</td>\n",
       "    </tr>\n",
       "    <tr>\n",
       "      <th>75%</th>\n",
       "      <td>877.000000</td>\n",
       "      <td>13.400000</td>\n",
       "      <td>0.000000</td>\n",
       "    </tr>\n",
       "    <tr>\n",
       "      <th>max</th>\n",
       "      <td>43320.000000</td>\n",
       "      <td>500.800000</td>\n",
       "      <td>55.000000</td>\n",
       "    </tr>\n",
       "  </tbody>\n",
       "</table>\n",
       "</div>"
      ],
      "text/plain": [
       "       trip_seconds         fare       extras\n",
       "count   8448.000000  8448.000000  8448.000000\n",
       "mean     742.456321    12.191755     0.652876\n",
       "std     1196.029764    13.915567     2.683721\n",
       "min        0.000000     0.010000     0.000000\n",
       "25%      270.000000     5.200000     0.000000\n",
       "50%      498.000000     7.750000     0.000000\n",
       "75%      877.000000    13.400000     0.000000\n",
       "max    43320.000000   500.800000    55.000000"
      ]
     },
     "execution_count": 22,
     "metadata": {},
     "output_type": "execute_result"
    }
   ],
   "source": [
    "data.describe()"
   ]
  },
  {
   "cell_type": "markdown",
   "id": "0cee2a5c-84ec-4dfb-a12a-272a4bb06637",
   "metadata": {},
   "source": [
    "# SPLIT TRAIN AND TEST "
   ]
  },
  {
   "cell_type": "code",
   "execution_count": 24,
   "id": "18764762-9672-4cc5-927b-3451ef7c4e12",
   "metadata": {},
   "outputs": [],
   "source": [
    "#Evaluar el modelo sobreeeeeeee el conjunto de prueba, nunca el de entrenamiento "
   ]
  },
  {
   "cell_type": "code",
   "execution_count": 26,
   "id": "2b81b7df-0a78-4c0a-99e2-2a730468ee21",
   "metadata": {},
   "outputs": [],
   "source": [
    "from sklearn.model_selection import train_test_split \n",
    "X_train, X_test, y_train, y_test = train_test_split(X,y, test_size = 0.3, random_state = 42 ) # Cojo el (30 % Test_size= 0.3)"
   ]
  },
  {
   "cell_type": "code",
   "execution_count": 28,
   "id": "67715300-88a6-4dc4-802a-4d62ce423cea",
   "metadata": {},
   "outputs": [
    {
     "name": "stdout",
     "output_type": "stream",
     "text": [
      "Total trein data :   (5913, 3)\n",
      "Total trein data :   (2535, 3)\n"
     ]
    }
   ],
   "source": [
    "print(\"Total trein data :  \", X_train.shape)\n",
    "print(\"Total trein data :  \", X_test.shape)"
   ]
  },
  {
   "cell_type": "markdown",
   "id": "a7606e61-5a74-482b-b756-286bcf82b026",
   "metadata": {},
   "source": [
    "# TRAIN MODEL: LINEAR REGRESSION y Support vector machine "
   ]
  },
  {
   "cell_type": "code",
   "execution_count": 60,
   "id": "c29d9706-37cd-46d3-8272-ba37d18a1665",
   "metadata": {},
   "outputs": [
    {
     "data": {
      "text/plain": [
       "SVC()"
      ]
     },
     "execution_count": 60,
     "metadata": {},
     "output_type": "execute_result"
    }
   ],
   "source": [
    "from sklearn.linear_model import LogisticRegression\n",
    "from sklearn.svm import SVC\n",
    "\n",
    "lr = LogisticRegression()        #No es un metodo de regresion, es de clasificacion \n",
    "lr.fit(X_train, y_train)\n",
    "\n",
    "svc = SVC()\n",
    "svc.fit(X_train, y_train)\n"
   ]
  },
  {
   "cell_type": "code",
   "execution_count": 64,
   "id": "097cf010-c991-4298-8ae3-0970aa10f6cc",
   "metadata": {},
   "outputs": [
    {
     "name": "stdout",
     "output_type": "stream",
     "text": [
      "Logistic Hyperparameters\n",
      "{'C': 1.0, 'class_weight': None, 'dual': False, 'fit_intercept': True, 'intercept_scaling': 1, 'l1_ratio': None, 'max_iter': 100, 'multi_class': 'auto', 'n_jobs': None, 'penalty': 'l2', 'random_state': None, 'solver': 'lbfgs', 'tol': 0.0001, 'verbose': 0, 'warm_start': False}\n",
      "SVC Hyperparameters\n",
      "{'C': 1.0, 'break_ties': False, 'cache_size': 200, 'class_weight': None, 'coef0': 0.0, 'decision_function_shape': 'ovr', 'degree': 3, 'gamma': 'scale', 'kernel': 'rbf', 'max_iter': -1, 'probability': False, 'random_state': None, 'shrinking': True, 'tol': 0.001, 'verbose': False}\n"
     ]
    }
   ],
   "source": [
    "print(\"Logistic Hyperparameters\")\n",
    "print(lr.get_params())\n",
    "\n",
    "print(\"SVC Hyperparameters\")\n",
    "print(svc.get_params())"
   ]
  },
  {
   "cell_type": "code",
   "execution_count": 65,
   "id": "331c4e18-c710-4739-80f8-a5caff3c02f0",
   "metadata": {},
   "outputs": [
    {
     "name": "stdout",
     "output_type": "stream",
     "text": [
      "Lr predic:  (array(['Cash', 'Credit Card'], dtype=object), array([2409,  126]))\n",
      "svc predic:  (array(['Cash', 'Credit Card'], dtype=object), array([2435,  100]))\n"
     ]
    }
   ],
   "source": [
    "y_pred_lr = lr.predict(X_test)\n",
    "y_pred_svc = svc.predict(X_test)\n",
    "print(\"Lr predic: \", np.unique(y_pred_lr, return_counts =True))\n",
    "print(\"svc predic: \", np.unique(y_pred_svc, return_counts =True))\n",
    "\n"
   ]
  },
  {
   "cell_type": "code",
   "execution_count": 39,
   "id": "280a342c-226b-4ee2-b4cd-bfedef65d76d",
   "metadata": {},
   "outputs": [
    {
     "data": {
      "text/plain": [
       "(array(['Cash', 'Credit Card'], dtype=object), array([1816,  719]))"
      ]
     },
     "execution_count": 39,
     "metadata": {},
     "output_type": "execute_result"
    }
   ],
   "source": [
    "np.unique(y_test, return_counts =True)"
   ]
  },
  {
   "cell_type": "code",
   "execution_count": 69,
   "id": "e200f028-e0e6-475d-9329-cbf4fda8babf",
   "metadata": {},
   "outputs": [
    {
     "data": {
      "text/plain": [
       "<BarContainer object of 2 artists>"
      ]
     },
     "execution_count": 69,
     "metadata": {},
     "output_type": "execute_result"
    },
    {
     "data": {
      "image/png": "[encoded data removed]",
      "text/plain": [
       "<Figure size 1080x360 with 3 Axes>"
      ]
     },
     "metadata": {
      "needs_background": "light"
     },
     "output_type": "display_data"
    }
   ],
   "source": [
    "labels_true, values_true = np.unique(y_test, return_counts=True)\n",
    "labels_pred_lr, values_pred_lr = np.unique(y_pred_lr, return_counts=True)\n",
    "labels_pred_svc, values_pred_svc = np.unique(y_pred_svc, return_counts=True)\n",
    "\n",
    "fig, ax = plt.subplots(ncols=3, nrows=1, figsize=(15, 5), sharey=True)\n",
    "ax[0].bar(labels_true, values_true)\n",
    "ax[1].bar(labels_pred_lr, values_pred_lr)\n",
    "ax[2].bar(labels_pred_svc, values_pred_svc)"
   ]
  },
  {
   "cell_type": "markdown",
   "id": "042b36cb-8fe2-4772-a1ad-cbeb1aaf015f",
   "metadata": {},
   "source": [
    "# Evaluate model "
   ]
  },
  {
   "cell_type": "code",
   "execution_count": 71,
   "id": "31180c30-32bd-41e7-9eee-5a3b66169f4d",
   "metadata": {},
   "outputs": [],
   "source": [
    "from sklearn.metrics import confusion_matrix\n",
    "lr_conf_matrix = confusion_matrix(y_test, y_pred)\n",
    "###svc_conf_matriz = confusion_matrix(y_test, y_pred)"
   ]
  },
  {
   "cell_type": "code",
   "execution_count": 45,
   "id": "8e454b35-8b36-4d9e-95fa-e6aacc8ec68f",
   "metadata": {},
   "outputs": [
    {
     "data": {
      "image/png": "[encoded data removed]",
      "text/plain": [
       "<Figure size 432x288 with 2 Axes>"
      ]
     },
     "metadata": {
      "needs_background": "light"
     },
     "output_type": "display_data"
    }
   ],
   "source": [
    "ax = sns.heatmap(lr_conf_matrix, cmap='Greens', annot=True)\n",
    "\n",
    "ax.set_title('Logistic Regression Confusion Matrix\\n\\n')\n",
    "ax.set_xlabel('\\nPredicted Label')\n",
    "ax.set_ylabel('True Label')\n",
    "\n",
    "ax.xaxis.set_ticklabels(['Cash', 'Credit Card'])\n",
    "ax.yaxis.set_ticklabels(['Cash', 'Credit Card']);"
   ]
  },
  {
   "cell_type": "code",
   "execution_count": 47,
   "id": "3c78df88-8c90-4dbb-b452-8e18edea0014",
   "metadata": {},
   "outputs": [
    {
     "data": {
      "text/plain": [
       "<sklearn.metrics._plot.confusion_matrix.ConfusionMatrixDisplay at 0x7f5ad68bf290>"
      ]
     },
     "execution_count": 47,
     "metadata": {},
     "output_type": "execute_result"
    },
    {
     "data": {
      "image/png": "[encoded data removed]",
      "text/plain": [
       "<Figure size 432x288 with 2 Axes>"
      ]
     },
     "metadata": {
      "needs_background": "light"
     },
     "output_type": "display_data"
    }
   ],
   "source": [
    "from sklearn.metrics import ConfusionMatrixDisplay\n",
    "ConfusionMatrixDisplay.from_estimator(lr, X_test, y_test, cmap = \"Greens\")"
   ]
  },
  {
   "cell_type": "code",
   "execution_count": 72,
   "id": "8a824916-cf67-4bac-b3d4-1de96cb00449",
   "metadata": {},
   "outputs": [
    {
     "data": {
      "text/plain": [
       "<sklearn.metrics._plot.confusion_matrix.ConfusionMatrixDisplay at 0x7f5ab64d7a10>"
      ]
     },
     "execution_count": 72,
     "metadata": {},
     "output_type": "execute_result"
    },
    {
     "data": {
      "image/png": "[encoded data removed]",
      "text/plain": [
       "<Figure size 432x288 with 2 Axes>"
      ]
     },
     "metadata": {
      "needs_background": "light"
     },
     "output_type": "display_data"
    }
   ],
   "source": [
    "ConfusionMatrixDisplay.from_estimator(svc, X_test, y_test, cmap = \"Greens\")"
   ]
  },
  {
   "cell_type": "code",
   "execution_count": 48,
   "id": "754dc5c2-4ad9-4954-82cd-3a7b720a7950",
   "metadata": {},
   "outputs": [],
   "source": [
    "from sklearn.metrics import accuracy_score, precision_score, recall_score, f1_score"
   ]
  },
  {
   "cell_type": "code",
   "execution_count": 74,
   "id": "9ae52fd5-38e4-4887-91cb-54572ce56362",
   "metadata": {},
   "outputs": [
    {
     "name": "stdout",
     "output_type": "stream",
     "text": [
      "Logistic Regression Performance:\n",
      "Accuracy:                 0.7297830374753451\n",
      "Precission Cash:          0.7347447073474471\n",
      "Precission Credict Card:  0.6349206349206349\n",
      "Recall Cash               0.974669603524229\n",
      "Recall Credit Card        0.11126564673157163\n",
      "F1-score Cash:            0.8378698224852071\n",
      "F1-score Credit Card:     0.1893491124260355\n"
     ]
    }
   ],
   "source": [
    "print('Logistic Regression Performance:')\n",
    "print('Accuracy:                ', accuracy_score(y_test, y_pred_lr))\n",
    "\n",
    "print('Precission Cash:         ', precision_score(y_test, y_pred_lr, pos_label='Cash'))    #Tengo que decirle cual es el positivo, aca seria Cash\n",
    "print('Precission Credict Card: ', precision_score(y_test, y_pred_lr, pos_label='Credit Card'))\n",
    "\n",
    "print('Recall Cash              ', recall_score(y_test, y_pred_lr, pos_label='Cash'))\n",
    "print('Recall Credit Card       ', recall_score(y_test, y_pred_lr, pos_label='Credit Card'))\n",
    "\n",
    "print('F1-score Cash:           ', f1_score(y_test, y_pred_lr, pos_label='Cash'))\n",
    "print('F1-score Credit Card:    ', f1_score(y_test, y_pred_lr, pos_label='Credit Card'))"
   ]
  },
  {
   "cell_type": "code",
   "execution_count": 75,
   "id": "e8e08f65-e28c-4cdf-8794-d780391180c1",
   "metadata": {},
   "outputs": [
    {
     "name": "stdout",
     "output_type": "stream",
     "text": [
      "Logistic Regression Performance:\n",
      "Accuracy:                 0.7171597633136094\n",
      "Precission Cash:          0.7256673511293634\n",
      "Precission Credict Card:  0.51\n",
      "Recall Cash               0.9730176211453745\n",
      "Recall Credit Card        0.07093184979137691\n",
      "F1-score Cash:            0.831333803810868\n",
      "F1-score Credit Card:     0.12454212454212456\n"
     ]
    }
   ],
   "source": [
    "print('Logistic Regression Performance:')\n",
    "print('Accuracy:                ', accuracy_score(y_test, y_pred_svc))\n",
    "\n",
    "print('Precission Cash:         ', precision_score(y_test, y_pred_svc, pos_label='Cash'))    #Tengo que decirle cual es el positivo, aca seria Cash\n",
    "print('Precission Credict Card: ', precision_score(y_test, y_pred_svc, pos_label='Credit Card'))\n",
    "\n",
    "print('Recall Cash              ', recall_score(y_test, y_pred_svc, pos_label='Cash'))\n",
    "print('Recall Credit Card       ', recall_score(y_test, y_pred_svc, pos_label='Credit Card'))\n",
    "\n",
    "print('F1-score Cash:           ', f1_score(y_test, y_pred_svc, pos_label='Cash'))\n",
    "print('F1-score Credit Card:    ', f1_score(y_test, y_pred_svc, pos_label='Credit Card'))"
   ]
  },
  {
   "cell_type": "code",
   "execution_count": 76,
   "id": "97ee15f3-3910-4931-b3f0-3b394a2c6995",
   "metadata": {},
   "outputs": [
    {
     "name": "stderr",
     "output_type": "stream",
     "text": [
      "/opt/conda/lib/python3.7/site-packages/sklearn/utils/deprecation.py:87: FutureWarning: Function plot_roc_curve is deprecated; Function :func:`plot_roc_curve` is deprecated in 1.0 and will be removed in 1.2. Use one of the class methods: :meth:`sklearn.metric.RocCurveDisplay.from_predictions` or :meth:`sklearn.metric.RocCurveDisplay.from_estimator`.\n",
      "  warnings.warn(msg, category=FutureWarning)\n",
      "/opt/conda/lib/python3.7/site-packages/sklearn/utils/deprecation.py:87: FutureWarning: Function plot_roc_curve is deprecated; Function :func:`plot_roc_curve` is deprecated in 1.0 and will be removed in 1.2. Use one of the class methods: :meth:`sklearn.metric.RocCurveDisplay.from_predictions` or :meth:`sklearn.metric.RocCurveDisplay.from_estimator`.\n",
      "  warnings.warn(msg, category=FutureWarning)\n"
     ]
    },
    {
     "data": {
      "text/plain": [
       "<sklearn.metrics._plot.roc_curve.RocCurveDisplay at 0x7f5ab63888d0>"
      ]
     },
     "execution_count": 76,
     "metadata": {},
     "output_type": "execute_result"
    },
    {
     "data": {
      "image/png": "[encoded data removed]",
      "text/plain": [
       "<Figure size 432x288 with 1 Axes>"
      ]
     },
     "metadata": {
      "needs_background": "light"
     },
     "output_type": "display_data"
    },
    {
     "data": {
      "image/png": "[encoded data removed]",
      "text/plain": [
       "<Figure size 432x288 with 1 Axes>"
      ]
     },
     "metadata": {
      "needs_background": "light"
     },
     "output_type": "display_data"
    }
   ],
   "source": [
    "from sklearn.metrics import plot_roc_curve\n",
    "plot_roc_curve(lr, X_test, y_test)\n",
    "plot_roc_curve(svc, X_test, y_test)"
   ]
  },
  {
   "cell_type": "code",
   "execution_count": 77,
   "id": "7cbe121a-bf81-4465-aa17-6831d2ade55f",
   "metadata": {},
   "outputs": [
    {
     "name": "stderr",
     "output_type": "stream",
     "text": [
      "/opt/conda/lib/python3.7/site-packages/sklearn/utils/deprecation.py:87: FutureWarning: Function plot_precision_recall_curve is deprecated; Function `plot_precision_recall_curve` is deprecated in 1.0 and will be removed in 1.2. Use one of the class methods: PrecisionRecallDisplay.from_predictions or PrecisionRecallDisplay.from_estimator.\n",
      "  warnings.warn(msg, category=FutureWarning)\n",
      "/opt/conda/lib/python3.7/site-packages/sklearn/utils/deprecation.py:87: FutureWarning: Function plot_precision_recall_curve is deprecated; Function `plot_precision_recall_curve` is deprecated in 1.0 and will be removed in 1.2. Use one of the class methods: PrecisionRecallDisplay.from_predictions or PrecisionRecallDisplay.from_estimator.\n",
      "  warnings.warn(msg, category=FutureWarning)\n"
     ]
    },
    {
     "data": {
      "text/plain": [
       "<sklearn.metrics._plot.precision_recall_curve.PrecisionRecallDisplay at 0x7f5ab637a0d0>"
      ]
     },
     "execution_count": 77,
     "metadata": {},
     "output_type": "execute_result"
    },
    {
     "data": {
      "image/png": "[encoded data removed]",
      "text/plain": [
       "<Figure size 432x288 with 1 Axes>"
      ]
     },
     "metadata": {
      "needs_background": "light"
     },
     "output_type": "display_data"
    },
    {
     "data": {
      "image/png": "[encoded data removed]",
      "text/plain": [
       "<Figure size 432x288 with 1 Axes>"
      ]
     },
     "metadata": {
      "needs_background": "light"
     },
     "output_type": "display_data"
    }
   ],
   "source": [
    "from sklearn.metrics import plot_precision_recall_curve\n",
    "plot_precision_recall_curve(lr,X_test,y_test ) #Esos picos significan inestabilidad \n",
    "plot_precision_recall_curve(svc,X_test,y_test ) #Esos picos significan inestabilidad "
   ]
  },
  {
   "cell_type": "code",
   "execution_count": 58,
   "id": "00d098e7-82b6-4c37-89bf-1f3694963b74",
   "metadata": {},
   "outputs": [
    {
     "data": {
      "text/plain": [
       "<BarContainer object of 3 artists>"
      ]
     },
     "execution_count": 58,
     "metadata": {},
     "output_type": "execute_result"
    },
    {
     "data": {
      "image/png": "[encoded data removed]",
      "text/plain": [
       "<Figure size 432x288 with 1 Axes>"
      ]
     },
     "metadata": {
      "needs_background": "light"
     },
     "output_type": "display_data"
    }
   ],
   "source": [
    "plt.bar(cols[:-1], lr.coef_.flatten() )   # ecuacion "
   ]
  },
  {
   "cell_type": "code",
   "execution_count": null,
   "id": "b67f9ee0-00ab-426c-abfe-f20299a3869a",
   "metadata": {},
   "outputs": [],
   "source": []
  },
  {
   "cell_type": "code",
   "execution_count": null,
   "id": "287e6c52-3cee-439c-a3c8-b45fcefaa7c9",
   "metadata": {},
   "outputs": [],
   "source": []
  },
  {
   "cell_type": "markdown",
   "id": "f0c6b922-16f7-4fe4-99ed-6cd7bf31bde9",
   "metadata": {},
   "source": [
    "-------------------------------------------"
   ]
  },
  {
   "cell_type": "code",
   "execution_count": null,
   "id": "03f073b1-ee29-4509-94a1-2540bf5d4898",
   "metadata": {},
   "outputs": [],
   "source": []
  },
  {
   "cell_type": "markdown",
   "id": "63a46b8c-3863-4aad-bfa2-94bff153a63a",
   "metadata": {},
   "source": [
    "---------------------------------------"
   ]
  }
 ],
 "metadata": {
  "environment": {
   "kernel": "python3",
   "name": "common-cpu.m91",
   "type": "gcloud",
   "uri": "gcr.io/deeplearning-platform-release/base-cpu:m91"
  },
  "kernelspec": {
   "display_name": "Python 3",
   "language": "python",
   "name": "python3"
  },
  "language_info": {
   "codemirror_mode": {
    "name": "ipython",
    "version": 3
   },
   "file_extension": ".py",
   "mimetype": "text/x-python",
   "name": "python",
   "nbconvert_exporter": "python",
   "pygments_lexer": "ipython3",
   "version": "3.7.12"
  }
 },
 "nbformat": 4,
 "nbformat_minor": 5
}
