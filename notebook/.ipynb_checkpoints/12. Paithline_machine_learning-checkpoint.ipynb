{
 "cells": [
  {
   "cell_type": "code",
   "execution_count": 1,
   "id": "22da6eeb-23b1-4625-aeef-afee7e0e8763",
   "metadata": {},
   "outputs": [
    {
     "name": "stdout",
     "output_type": "stream",
     "text": [
      "/home/jupyter/machine_learning/notebook\n",
      "/home/jupyter/machine_learning\n"
     ]
    }
   ],
   "source": [
    "import os\n",
    "\n",
    "import pandas as pd\n",
    "import numpy as np\n",
    "import seaborn as sns\n",
    "import pandas_gbq\n",
    "import matplotlib.pyplot as plt \n",
    "import plotly.express as px\n",
    "\n",
    "from pathlib import Path\n",
    "current_dir = Path(\".\").resolve()\n",
    "project_dir = current_dir.parent\n",
    "\n",
    "print(current_dir)\n",
    "print(project_dir)\n"
   ]
  },
  {
   "cell_type": "code",
   "execution_count": 2,
   "id": "ed973b4b-256e-493c-bb66-ae26495e7462",
   "metadata": {},
   "outputs": [],
   "source": [
    "file_data = os.path.join(project_dir, \"data\",\"wdbc.data\") # unir el directorio, data y el nombre del archivo \n",
    "data = pd.read_csv(file_data,header=None )"
   ]
  },
  {
   "cell_type": "code",
   "execution_count": 3,
   "id": "c72f47b0-209c-43d2-953b-db35c9e9181a",
   "metadata": {},
   "outputs": [
    {
     "data": {
      "text/html": [
       "<div>\n",
       "<style scoped>\n",
       "    .dataframe tbody tr th:only-of-type {\n",
       "        vertical-align: middle;\n",
       "    }\n",
       "\n",
       "    .dataframe tbody tr th {\n",
       "        vertical-align: top;\n",
       "    }\n",
       "\n",
       "    .dataframe thead th {\n",
       "        text-align: right;\n",
       "    }\n",
       "</style>\n",
       "<table border=\"1\" class=\"dataframe\">\n",
       "  <thead>\n",
       "    <tr style=\"text-align: right;\">\n",
       "      <th></th>\n",
       "      <th>0</th>\n",
       "      <th>1</th>\n",
       "      <th>2</th>\n",
       "      <th>3</th>\n",
       "      <th>4</th>\n",
       "      <th>5</th>\n",
       "      <th>6</th>\n",
       "      <th>7</th>\n",
       "      <th>8</th>\n",
       "      <th>9</th>\n",
       "      <th>...</th>\n",
       "      <th>22</th>\n",
       "      <th>23</th>\n",
       "      <th>24</th>\n",
       "      <th>25</th>\n",
       "      <th>26</th>\n",
       "      <th>27</th>\n",
       "      <th>28</th>\n",
       "      <th>29</th>\n",
       "      <th>30</th>\n",
       "      <th>31</th>\n",
       "    </tr>\n",
       "  </thead>\n",
       "  <tbody>\n",
       "    <tr>\n",
       "      <th>0</th>\n",
       "      <td>842302</td>\n",
       "      <td>M</td>\n",
       "      <td>17.99</td>\n",
       "      <td>10.38</td>\n",
       "      <td>122.80</td>\n",
       "      <td>1001.0</td>\n",
       "      <td>0.11840</td>\n",
       "      <td>0.27760</td>\n",
       "      <td>0.3001</td>\n",
       "      <td>0.14710</td>\n",
       "      <td>...</td>\n",
       "      <td>25.38</td>\n",
       "      <td>17.33</td>\n",
       "      <td>184.60</td>\n",
       "      <td>2019.0</td>\n",
       "      <td>0.1622</td>\n",
       "      <td>0.6656</td>\n",
       "      <td>0.7119</td>\n",
       "      <td>0.2654</td>\n",
       "      <td>0.4601</td>\n",
       "      <td>0.11890</td>\n",
       "    </tr>\n",
       "    <tr>\n",
       "      <th>1</th>\n",
       "      <td>842517</td>\n",
       "      <td>M</td>\n",
       "      <td>20.57</td>\n",
       "      <td>17.77</td>\n",
       "      <td>132.90</td>\n",
       "      <td>1326.0</td>\n",
       "      <td>0.08474</td>\n",
       "      <td>0.07864</td>\n",
       "      <td>0.0869</td>\n",
       "      <td>0.07017</td>\n",
       "      <td>...</td>\n",
       "      <td>24.99</td>\n",
       "      <td>23.41</td>\n",
       "      <td>158.80</td>\n",
       "      <td>1956.0</td>\n",
       "      <td>0.1238</td>\n",
       "      <td>0.1866</td>\n",
       "      <td>0.2416</td>\n",
       "      <td>0.1860</td>\n",
       "      <td>0.2750</td>\n",
       "      <td>0.08902</td>\n",
       "    </tr>\n",
       "    <tr>\n",
       "      <th>2</th>\n",
       "      <td>84300903</td>\n",
       "      <td>M</td>\n",
       "      <td>19.69</td>\n",
       "      <td>21.25</td>\n",
       "      <td>130.00</td>\n",
       "      <td>1203.0</td>\n",
       "      <td>0.10960</td>\n",
       "      <td>0.15990</td>\n",
       "      <td>0.1974</td>\n",
       "      <td>0.12790</td>\n",
       "      <td>...</td>\n",
       "      <td>23.57</td>\n",
       "      <td>25.53</td>\n",
       "      <td>152.50</td>\n",
       "      <td>1709.0</td>\n",
       "      <td>0.1444</td>\n",
       "      <td>0.4245</td>\n",
       "      <td>0.4504</td>\n",
       "      <td>0.2430</td>\n",
       "      <td>0.3613</td>\n",
       "      <td>0.08758</td>\n",
       "    </tr>\n",
       "    <tr>\n",
       "      <th>3</th>\n",
       "      <td>84348301</td>\n",
       "      <td>M</td>\n",
       "      <td>11.42</td>\n",
       "      <td>20.38</td>\n",
       "      <td>77.58</td>\n",
       "      <td>386.1</td>\n",
       "      <td>0.14250</td>\n",
       "      <td>0.28390</td>\n",
       "      <td>0.2414</td>\n",
       "      <td>0.10520</td>\n",
       "      <td>...</td>\n",
       "      <td>14.91</td>\n",
       "      <td>26.50</td>\n",
       "      <td>98.87</td>\n",
       "      <td>567.7</td>\n",
       "      <td>0.2098</td>\n",
       "      <td>0.8663</td>\n",
       "      <td>0.6869</td>\n",
       "      <td>0.2575</td>\n",
       "      <td>0.6638</td>\n",
       "      <td>0.17300</td>\n",
       "    </tr>\n",
       "    <tr>\n",
       "      <th>4</th>\n",
       "      <td>84358402</td>\n",
       "      <td>M</td>\n",
       "      <td>20.29</td>\n",
       "      <td>14.34</td>\n",
       "      <td>135.10</td>\n",
       "      <td>1297.0</td>\n",
       "      <td>0.10030</td>\n",
       "      <td>0.13280</td>\n",
       "      <td>0.1980</td>\n",
       "      <td>0.10430</td>\n",
       "      <td>...</td>\n",
       "      <td>22.54</td>\n",
       "      <td>16.67</td>\n",
       "      <td>152.20</td>\n",
       "      <td>1575.0</td>\n",
       "      <td>0.1374</td>\n",
       "      <td>0.2050</td>\n",
       "      <td>0.4000</td>\n",
       "      <td>0.1625</td>\n",
       "      <td>0.2364</td>\n",
       "      <td>0.07678</td>\n",
       "    </tr>\n",
       "  </tbody>\n",
       "</table>\n",
       "<p>5 rows × 32 columns</p>\n",
       "</div>"
      ],
      "text/plain": [
       "         0  1      2      3       4       5        6        7       8   \\\n",
       "0    842302  M  17.99  10.38  122.80  1001.0  0.11840  0.27760  0.3001   \n",
       "1    842517  M  20.57  17.77  132.90  1326.0  0.08474  0.07864  0.0869   \n",
       "2  84300903  M  19.69  21.25  130.00  1203.0  0.10960  0.15990  0.1974   \n",
       "3  84348301  M  11.42  20.38   77.58   386.1  0.14250  0.28390  0.2414   \n",
       "4  84358402  M  20.29  14.34  135.10  1297.0  0.10030  0.13280  0.1980   \n",
       "\n",
       "        9   ...     22     23      24      25      26      27      28      29  \\\n",
       "0  0.14710  ...  25.38  17.33  184.60  2019.0  0.1622  0.6656  0.7119  0.2654   \n",
       "1  0.07017  ...  24.99  23.41  158.80  1956.0  0.1238  0.1866  0.2416  0.1860   \n",
       "2  0.12790  ...  23.57  25.53  152.50  1709.0  0.1444  0.4245  0.4504  0.2430   \n",
       "3  0.10520  ...  14.91  26.50   98.87   567.7  0.2098  0.8663  0.6869  0.2575   \n",
       "4  0.10430  ...  22.54  16.67  152.20  1575.0  0.1374  0.2050  0.4000  0.1625   \n",
       "\n",
       "       30       31  \n",
       "0  0.4601  0.11890  \n",
       "1  0.2750  0.08902  \n",
       "2  0.3613  0.08758  \n",
       "3  0.6638  0.17300  \n",
       "4  0.2364  0.07678  \n",
       "\n",
       "[5 rows x 32 columns]"
      ]
     },
     "execution_count": 3,
     "metadata": {},
     "output_type": "execute_result"
    }
   ],
   "source": [
    "\n",
    "data.head()"
   ]
  },
  {
   "cell_type": "code",
   "execution_count": 4,
   "id": "9009bcbd-772c-4167-ba80-f5d09ab98c2e",
   "metadata": {},
   "outputs": [],
   "source": [
    "X = data.loc[:,2:]\n",
    "y = data.loc[:,1]"
   ]
  },
  {
   "cell_type": "code",
   "execution_count": 5,
   "id": "f593b305-036b-4286-9cbf-2fc90aa3dff0",
   "metadata": {},
   "outputs": [
    {
     "name": "stdout",
     "output_type": "stream",
     "text": [
      "X Shape:   (569, 30)\n",
      "y Shape:   (569,)\n"
     ]
    }
   ],
   "source": [
    "print(\"X Shape:  \", X.shape)\n",
    "print(\"y Shape:  \", y.shape)"
   ]
  },
  {
   "cell_type": "markdown",
   "id": "dea06ca6-c350-4f61-aaa8-ef936e06e844",
   "metadata": {},
   "source": [
    "# Dividir entranamiento y prueba "
   ]
  },
  {
   "cell_type": "code",
   "execution_count": 6,
   "id": "92884571-bfe6-4565-a995-7d55bc2149d3",
   "metadata": {},
   "outputs": [
    {
     "name": "stdout",
     "output_type": "stream",
     "text": [
      "X_train  (398, 30)\n",
      "y_train  (398,)\n",
      "X_test  (171, 30)\n",
      "y_test  (171,)\n"
     ]
    }
   ],
   "source": [
    "from sklearn.model_selection import train_test_split\n",
    "\n",
    "X_train, X_test, y_train, y_test = train_test_split(X,y, test_size = 0.3, random_state = 42 ) # Cojo el (30 % Test_size= 0.3)\n",
    "\n",
    "print(\"X_train \", X_train.shape)\n",
    "print(\"y_train \", y_train.shape)\n",
    "print(\"X_test \", X_test.shape)\n",
    "print(\"y_test \", y_test.shape)"
   ]
  },
  {
   "cell_type": "markdown",
   "id": "3301d980-5093-4ba4-8bf1-92ca7db7cc13",
   "metadata": {},
   "source": [
    "# Correlacion entre variables\n"
   ]
  },
  {
   "cell_type": "code",
   "execution_count": 7,
   "id": "4c881bce-e8e9-468f-9dca-c7dcd4206438",
   "metadata": {},
   "outputs": [],
   "source": [
    "#solo se hace con x train porque son con las que entreno, los datos test es como si fueran los nuevos que van a llegar cuando el modelo este listo \n"
   ]
  },
  {
   "cell_type": "code",
   "execution_count": 8,
   "id": "19b05b13-1ed9-48f2-8082-607e40d65986",
   "metadata": {},
   "outputs": [
    {
     "data": {
      "text/plain": [
       "<AxesSubplot:>"
      ]
     },
     "execution_count": 8,
     "metadata": {},
     "output_type": "execute_result"
    },
    {
     "data": {
      "image/png": "[encoded data removed]",
      "text/plain": [
       "<Figure size 1440x864 with 2 Axes>"
      ]
     },
     "metadata": {
      "needs_background": "light"
     },
     "output_type": "display_data"
    }
   ],
   "source": [
    "plt.figure(figsize =(20,12))\n",
    "corr_matrix = X_train.corr()\n",
    "mask = np.triu(np.ones_like(corr_matrix, dtype = bool))\n",
    "cmap = sns.diverging_palette(230,20,as_cmap = True)  #es el color map \n",
    "\n",
    "sns.heatmap(\n",
    "    corr_matrix,\n",
    "    mask = mask,\n",
    "    cmap = cmap,\n",
    "    annot = True,\n",
    "    fmt  = \".2f\"\n",
    ")"
   ]
  },
  {
   "cell_type": "markdown",
   "id": "64c09a4a-e8f1-4691-aa69-cf9ebcbdfb56",
   "metadata": {},
   "source": [
    "# Eliminar variables con alta correlacion "
   ]
  },
  {
   "cell_type": "code",
   "execution_count": 9,
   "id": "5704cfc7-fd0f-4119-a498-821a72e67c3d",
   "metadata": {
    "tags": []
   },
   "outputs": [
    {
     "data": {
      "text/html": [
       "<div>\n",
       "<style scoped>\n",
       "    .dataframe tbody tr th:only-of-type {\n",
       "        vertical-align: middle;\n",
       "    }\n",
       "\n",
       "    .dataframe tbody tr th {\n",
       "        vertical-align: top;\n",
       "    }\n",
       "\n",
       "    .dataframe thead th {\n",
       "        text-align: right;\n",
       "    }\n",
       "</style>\n",
       "<table border=\"1\" class=\"dataframe\">\n",
       "  <thead>\n",
       "    <tr style=\"text-align: right;\">\n",
       "      <th></th>\n",
       "      <th>6</th>\n",
       "      <th>7</th>\n",
       "      <th>10</th>\n",
       "      <th>11</th>\n",
       "      <th>13</th>\n",
       "      <th>15</th>\n",
       "      <th>16</th>\n",
       "      <th>17</th>\n",
       "      <th>18</th>\n",
       "      <th>19</th>\n",
       "      <th>20</th>\n",
       "      <th>21</th>\n",
       "      <th>23</th>\n",
       "      <th>25</th>\n",
       "      <th>26</th>\n",
       "      <th>27</th>\n",
       "      <th>28</th>\n",
       "      <th>29</th>\n",
       "      <th>30</th>\n",
       "      <th>31</th>\n",
       "    </tr>\n",
       "  </thead>\n",
       "  <tbody>\n",
       "    <tr>\n",
       "      <th>149</th>\n",
       "      <td>0.07944</td>\n",
       "      <td>0.06376</td>\n",
       "      <td>0.1473</td>\n",
       "      <td>0.05580</td>\n",
       "      <td>0.7574</td>\n",
       "      <td>21.47</td>\n",
       "      <td>0.002838</td>\n",
       "      <td>0.01592</td>\n",
       "      <td>0.01780</td>\n",
       "      <td>0.005828</td>\n",
       "      <td>0.01329</td>\n",
       "      <td>0.001976</td>\n",
       "      <td>22.46</td>\n",
       "      <td>725.9</td>\n",
       "      <td>0.09711</td>\n",
       "      <td>0.1824</td>\n",
       "      <td>0.1564</td>\n",
       "      <td>0.06019</td>\n",
       "      <td>0.2350</td>\n",
       "      <td>0.07014</td>\n",
       "    </tr>\n",
       "    <tr>\n",
       "      <th>124</th>\n",
       "      <td>0.07115</td>\n",
       "      <td>0.07325</td>\n",
       "      <td>0.1422</td>\n",
       "      <td>0.05823</td>\n",
       "      <td>1.1400</td>\n",
       "      <td>14.66</td>\n",
       "      <td>0.005919</td>\n",
       "      <td>0.03270</td>\n",
       "      <td>0.04957</td>\n",
       "      <td>0.010380</td>\n",
       "      <td>0.01208</td>\n",
       "      <td>0.004076</td>\n",
       "      <td>22.75</td>\n",
       "      <td>632.1</td>\n",
       "      <td>0.10250</td>\n",
       "      <td>0.2531</td>\n",
       "      <td>0.3308</td>\n",
       "      <td>0.08978</td>\n",
       "      <td>0.2048</td>\n",
       "      <td>0.07628</td>\n",
       "    </tr>\n",
       "    <tr>\n",
       "      <th>421</th>\n",
       "      <td>0.10310</td>\n",
       "      <td>0.18360</td>\n",
       "      <td>0.2086</td>\n",
       "      <td>0.07406</td>\n",
       "      <td>1.5110</td>\n",
       "      <td>49.45</td>\n",
       "      <td>0.009976</td>\n",
       "      <td>0.05244</td>\n",
       "      <td>0.05278</td>\n",
       "      <td>0.015800</td>\n",
       "      <td>0.02653</td>\n",
       "      <td>0.005444</td>\n",
       "      <td>18.34</td>\n",
       "      <td>809.2</td>\n",
       "      <td>0.13120</td>\n",
       "      <td>0.3635</td>\n",
       "      <td>0.3219</td>\n",
       "      <td>0.11080</td>\n",
       "      <td>0.2827</td>\n",
       "      <td>0.09208</td>\n",
       "    </tr>\n",
       "    <tr>\n",
       "      <th>195</th>\n",
       "      <td>0.07941</td>\n",
       "      <td>0.05366</td>\n",
       "      <td>0.1829</td>\n",
       "      <td>0.05667</td>\n",
       "      <td>0.9086</td>\n",
       "      <td>15.75</td>\n",
       "      <td>0.005298</td>\n",
       "      <td>0.01587</td>\n",
       "      <td>0.02321</td>\n",
       "      <td>0.008420</td>\n",
       "      <td>0.01853</td>\n",
       "      <td>0.002152</td>\n",
       "      <td>22.00</td>\n",
       "      <td>600.6</td>\n",
       "      <td>0.10970</td>\n",
       "      <td>0.1506</td>\n",
       "      <td>0.1764</td>\n",
       "      <td>0.08235</td>\n",
       "      <td>0.3024</td>\n",
       "      <td>0.06949</td>\n",
       "    </tr>\n",
       "    <tr>\n",
       "      <th>545</th>\n",
       "      <td>0.09246</td>\n",
       "      <td>0.06747</td>\n",
       "      <td>0.1664</td>\n",
       "      <td>0.05801</td>\n",
       "      <td>1.3360</td>\n",
       "      <td>31.24</td>\n",
       "      <td>0.005868</td>\n",
       "      <td>0.02099</td>\n",
       "      <td>0.02021</td>\n",
       "      <td>0.009064</td>\n",
       "      <td>0.02087</td>\n",
       "      <td>0.002583</td>\n",
       "      <td>29.09</td>\n",
       "      <td>729.8</td>\n",
       "      <td>0.12160</td>\n",
       "      <td>0.1517</td>\n",
       "      <td>0.1049</td>\n",
       "      <td>0.07174</td>\n",
       "      <td>0.2642</td>\n",
       "      <td>0.06953</td>\n",
       "    </tr>\n",
       "  </tbody>\n",
       "</table>\n",
       "</div>"
      ],
      "text/plain": [
       "          6        7       10       11      13     15        16       17  \\\n",
       "149  0.07944  0.06376  0.1473  0.05580  0.7574  21.47  0.002838  0.01592   \n",
       "124  0.07115  0.07325  0.1422  0.05823  1.1400  14.66  0.005919  0.03270   \n",
       "421  0.10310  0.18360  0.2086  0.07406  1.5110  49.45  0.009976  0.05244   \n",
       "195  0.07941  0.05366  0.1829  0.05667  0.9086  15.75  0.005298  0.01587   \n",
       "545  0.09246  0.06747  0.1664  0.05801  1.3360  31.24  0.005868  0.02099   \n",
       "\n",
       "          18        19       20        21     23     25       26      27  \\\n",
       "149  0.01780  0.005828  0.01329  0.001976  22.46  725.9  0.09711  0.1824   \n",
       "124  0.04957  0.010380  0.01208  0.004076  22.75  632.1  0.10250  0.2531   \n",
       "421  0.05278  0.015800  0.02653  0.005444  18.34  809.2  0.13120  0.3635   \n",
       "195  0.02321  0.008420  0.01853  0.002152  22.00  600.6  0.10970  0.1506   \n",
       "545  0.02021  0.009064  0.02087  0.002583  29.09  729.8  0.12160  0.1517   \n",
       "\n",
       "         28       29      30       31  \n",
       "149  0.1564  0.06019  0.2350  0.07014  \n",
       "124  0.3308  0.08978  0.2048  0.07628  \n",
       "421  0.3219  0.11080  0.2827  0.09208  \n",
       "195  0.1764  0.08235  0.3024  0.06949  \n",
       "545  0.1049  0.07174  0.2642  0.06953  "
      ]
     },
     "execution_count": 9,
     "metadata": {},
     "output_type": "execute_result"
    }
   ],
   "source": [
    "corr_matrix = corr_matrix.abs() #valor absoluto\n",
    "mask = np.triu(np.ones_like(corr_matrix, dtype = bool))\n",
    "tri_df = corr_matrix.mask(mask)\n",
    "\n",
    "to_drop = [x for x in tri_df.columns if any(tri_df[x]>0.9)] #elijo las de alta correlacion, el any me dice que elimine solo 1, no todas\n",
    "\n",
    "X_train = X_train.drop(to_drop, axis = 1) #elimino esas columnas \n",
    "X_test = X_test.drop(to_drop, axis = 1)   # se lo aplico a test tambien\n",
    "X_train.head()"
   ]
  },
  {
   "cell_type": "code",
   "execution_count": 10,
   "id": "66db4952-691f-4c91-9be2-4c18fa47b7f4",
   "metadata": {},
   "outputs": [
    {
     "data": {
      "text/plain": [
       "(398, 20)"
      ]
     },
     "execution_count": 10,
     "metadata": {},
     "output_type": "execute_result"
    }
   ],
   "source": [
    "X_train.shape"
   ]
  },
  {
   "cell_type": "code",
   "execution_count": 11,
   "id": "65ae7107-ad8b-4b25-ae4c-0846bd1804eb",
   "metadata": {},
   "outputs": [
    {
     "data": {
      "text/plain": [
       "(171, 20)"
      ]
     },
     "execution_count": 11,
     "metadata": {},
     "output_type": "execute_result"
    }
   ],
   "source": [
    "X_test.shape"
   ]
  },
  {
   "cell_type": "markdown",
   "id": "5acead72-8f08-4d62-9391-455d279b61e3",
   "metadata": {},
   "source": [
    "# Escalado de datos "
   ]
  },
  {
   "cell_type": "code",
   "execution_count": 12,
   "id": "57126eac-535e-4cf5-8c6e-2550eea489dc",
   "metadata": {},
   "outputs": [
    {
     "name": "stdout",
     "output_type": "stream",
     "text": [
      "X_train shape  (398, 20)\n",
      "y_train shape  (398,)\n",
      "X_test shape  (171, 20)\n",
      "y_test shape  (171,)\n"
     ]
    }
   ],
   "source": [
    "from sklearn.preprocessing import StandardScaler\n",
    "sc = StandardScaler().fit(X_train)\n",
    "\n",
    "X_train_scaled = sc.transform(X_train)\n",
    "X_test_scaled = sc.transform(X_test)\n",
    "\n",
    "print(\"X_train shape \", X_train_scaled.shape)\n",
    "print(\"y_train shape \", y_train.shape)\n",
    "print(\"X_test shape \", X_test_scaled.shape)\n",
    "print(\"y_test shape \", y_test.shape)"
   ]
  },
  {
   "cell_type": "markdown",
   "id": "1c1e8b6a-490e-4ffa-99f5-f26ddebc15ce",
   "metadata": {},
   "source": [
    "# Label Encoder AKA One-Hot Encoding "
   ]
  },
  {
   "cell_type": "code",
   "execution_count": 13,
   "id": "1b03a55a-42de-469f-aa07-a4277d0e4e4a",
   "metadata": {},
   "outputs": [
    {
     "name": "stdout",
     "output_type": "stream",
     "text": [
      "(array(['B', 'M'], dtype=object), array([249, 149]))\n",
      "(array([0, 1]), array([249, 149]))\n"
     ]
    }
   ],
   "source": [
    "from sklearn.preprocessing import LabelEncoder\n",
    "\n",
    "le = LabelEncoder().fit(y_train)\n",
    "y_train_enc = le.transform(y_train)\n",
    "y_test_enc = le.transform(y_test)\n",
    "\n",
    "print(np.unique(y_train,   return_counts=True))\n",
    "print(np.unique(y_train_enc,   return_counts=True))"
   ]
  },
  {
   "cell_type": "markdown",
   "id": "dbb27a46-2322-4862-b7fb-a4b2c7ccd725",
   "metadata": {},
   "source": [
    "# PCA "
   ]
  },
  {
   "cell_type": "code",
   "execution_count": 14,
   "id": "1c767a8a-8435-444a-a686-2f8f6201132f",
   "metadata": {},
   "outputs": [],
   "source": [
    "from sklearn.decomposition import PCA\n",
    "\n",
    "pca = PCA(0.95).fit(X_train_scaled)  #explicar las mejor o mayor varianza con los datos originales\n",
    "X_train_pca = pca.transform(X_train_scaled)\n",
    "X_test_pca = pca.transform(X_test_scaled)"
   ]
  },
  {
   "cell_type": "code",
   "execution_count": 15,
   "id": "d7e1e279-6eb3-45a2-99af-b1bbce386a6d",
   "metadata": {},
   "outputs": [
    {
     "data": {
      "text/plain": [
       "array([0.41654914, 0.15127446, 0.11234144, 0.07288026, 0.0632658 ,\n",
       "       0.05944221, 0.02480021, 0.02407337, 0.01754429, 0.01446032])"
      ]
     },
     "execution_count": 15,
     "metadata": {},
     "output_type": "execute_result"
    }
   ],
   "source": [
    "pca.explained_variance_ratio_   #peso de cada componenete que va explicando la varianza "
   ]
  },
  {
   "cell_type": "code",
   "execution_count": 16,
   "id": "ad4be42d-2180-4323-a736-60e38a29d982",
   "metadata": {},
   "outputs": [],
   "source": [
    "# Con esas 10 varaibles explico el 95% de la varianza "
   ]
  },
  {
   "cell_type": "code",
   "execution_count": 17,
   "id": "02c9165b-39c5-43e6-8699-b137eaf465de",
   "metadata": {},
   "outputs": [],
   "source": [
    "rows = X_train.columns \n",
    "\n",
    "columns = []\n",
    "for i in range (10):\n",
    "    columns.append(\"PC_{}\".format(i+1))\n",
    "feature_importance = pd.DataFrame(\n",
    "    pca.components_.T,\n",
    "    index =rows, \n",
    "    columns=columns\n",
    ")"
   ]
  },
  {
   "cell_type": "code",
   "execution_count": 19,
   "id": "e3365cb9-fbc9-4c4c-859f-781d72206540",
   "metadata": {},
   "outputs": [
    {
     "data": {
      "text/html": [
       "<div>\n",
       "<style scoped>\n",
       "    .dataframe tbody tr th:only-of-type {\n",
       "        vertical-align: middle;\n",
       "    }\n",
       "\n",
       "    .dataframe tbody tr th {\n",
       "        vertical-align: top;\n",
       "    }\n",
       "\n",
       "    .dataframe thead th {\n",
       "        text-align: right;\n",
       "    }\n",
       "</style>\n",
       "<table border=\"1\" class=\"dataframe\">\n",
       "  <thead>\n",
       "    <tr style=\"text-align: right;\">\n",
       "      <th></th>\n",
       "      <th>PC_1</th>\n",
       "      <th>PC_2</th>\n",
       "      <th>PC_3</th>\n",
       "      <th>PC_4</th>\n",
       "      <th>PC_5</th>\n",
       "      <th>PC_6</th>\n",
       "      <th>PC_7</th>\n",
       "      <th>PC_8</th>\n",
       "      <th>PC_9</th>\n",
       "      <th>PC_10</th>\n",
       "    </tr>\n",
       "  </thead>\n",
       "  <tbody>\n",
       "    <tr>\n",
       "      <th>6</th>\n",
       "      <td>0.230507</td>\n",
       "      <td>-0.011616</td>\n",
       "      <td>-0.222060</td>\n",
       "      <td>0.275118</td>\n",
       "      <td>-0.402667</td>\n",
       "      <td>-0.022116</td>\n",
       "      <td>-0.208619</td>\n",
       "      <td>-0.235246</td>\n",
       "      <td>-0.302430</td>\n",
       "      <td>0.145419</td>\n",
       "    </tr>\n",
       "    <tr>\n",
       "      <th>7</th>\n",
       "      <td>0.323624</td>\n",
       "      <td>-0.076590</td>\n",
       "      <td>0.006271</td>\n",
       "      <td>-0.030694</td>\n",
       "      <td>-0.066824</td>\n",
       "      <td>-0.040890</td>\n",
       "      <td>0.006902</td>\n",
       "      <td>-0.122400</td>\n",
       "      <td>-0.263102</td>\n",
       "      <td>-0.344287</td>\n",
       "    </tr>\n",
       "    <tr>\n",
       "      <th>10</th>\n",
       "      <td>0.238643</td>\n",
       "      <td>0.021689</td>\n",
       "      <td>-0.089826</td>\n",
       "      <td>0.300531</td>\n",
       "      <td>0.180953</td>\n",
       "      <td>-0.278398</td>\n",
       "      <td>-0.342188</td>\n",
       "      <td>-0.283515</td>\n",
       "      <td>0.523624</td>\n",
       "      <td>-0.354112</td>\n",
       "    </tr>\n",
       "    <tr>\n",
       "      <th>11</th>\n",
       "      <td>0.222637</td>\n",
       "      <td>0.288534</td>\n",
       "      <td>-0.291966</td>\n",
       "      <td>-0.046694</td>\n",
       "      <td>-0.091070</td>\n",
       "      <td>0.058508</td>\n",
       "      <td>0.180848</td>\n",
       "      <td>-0.330607</td>\n",
       "      <td>-0.040423</td>\n",
       "      <td>0.039411</td>\n",
       "    </tr>\n",
       "    <tr>\n",
       "      <th>13</th>\n",
       "      <td>0.072043</td>\n",
       "      <td>0.263156</td>\n",
       "      <td>0.275670</td>\n",
       "      <td>0.404171</td>\n",
       "      <td>0.153397</td>\n",
       "      <td>0.408086</td>\n",
       "      <td>-0.059223</td>\n",
       "      <td>-0.285806</td>\n",
       "      <td>-0.151784</td>\n",
       "      <td>0.011193</td>\n",
       "    </tr>\n",
       "    <tr>\n",
       "      <th>15</th>\n",
       "      <td>0.130568</td>\n",
       "      <td>-0.196910</td>\n",
       "      <td>0.420252</td>\n",
       "      <td>0.164652</td>\n",
       "      <td>-0.274411</td>\n",
       "      <td>-0.171227</td>\n",
       "      <td>0.430873</td>\n",
       "      <td>-0.245357</td>\n",
       "      <td>0.143276</td>\n",
       "      <td>0.069396</td>\n",
       "    </tr>\n",
       "    <tr>\n",
       "      <th>16</th>\n",
       "      <td>0.103802</td>\n",
       "      <td>0.361913</td>\n",
       "      <td>0.068602</td>\n",
       "      <td>0.237779</td>\n",
       "      <td>-0.386733</td>\n",
       "      <td>0.083520</td>\n",
       "      <td>0.114275</td>\n",
       "      <td>0.574538</td>\n",
       "      <td>0.289200</td>\n",
       "      <td>-0.238067</td>\n",
       "    </tr>\n",
       "    <tr>\n",
       "      <th>17</th>\n",
       "      <td>0.277535</td>\n",
       "      <td>0.193069</td>\n",
       "      <td>0.156219</td>\n",
       "      <td>-0.206371</td>\n",
       "      <td>0.121718</td>\n",
       "      <td>0.000904</td>\n",
       "      <td>0.119464</td>\n",
       "      <td>0.151623</td>\n",
       "      <td>-0.095534</td>\n",
       "      <td>-0.384899</td>\n",
       "    </tr>\n",
       "    <tr>\n",
       "      <th>18</th>\n",
       "      <td>0.246916</td>\n",
       "      <td>0.189993</td>\n",
       "      <td>0.231269</td>\n",
       "      <td>-0.279538</td>\n",
       "      <td>0.063109</td>\n",
       "      <td>-0.008382</td>\n",
       "      <td>-0.218897</td>\n",
       "      <td>0.064137</td>\n",
       "      <td>0.157378</td>\n",
       "      <td>0.453381</td>\n",
       "    </tr>\n",
       "    <tr>\n",
       "      <th>19</th>\n",
       "      <td>0.248189</td>\n",
       "      <td>0.126929</td>\n",
       "      <td>0.294054</td>\n",
       "      <td>-0.120949</td>\n",
       "      <td>-0.076611</td>\n",
       "      <td>-0.080726</td>\n",
       "      <td>-0.496204</td>\n",
       "      <td>0.069403</td>\n",
       "      <td>-0.160308</td>\n",
       "      <td>0.015629</td>\n",
       "    </tr>\n",
       "    <tr>\n",
       "      <th>20</th>\n",
       "      <td>0.118987</td>\n",
       "      <td>0.267512</td>\n",
       "      <td>0.109224</td>\n",
       "      <td>0.383707</td>\n",
       "      <td>0.284507</td>\n",
       "      <td>-0.391037</td>\n",
       "      <td>0.255970</td>\n",
       "      <td>0.206243</td>\n",
       "      <td>-0.406271</td>\n",
       "      <td>0.217548</td>\n",
       "    </tr>\n",
       "    <tr>\n",
       "      <th>21</th>\n",
       "      <td>0.228699</td>\n",
       "      <td>0.338031</td>\n",
       "      <td>0.081221</td>\n",
       "      <td>-0.234692</td>\n",
       "      <td>0.012872</td>\n",
       "      <td>0.028078</td>\n",
       "      <td>0.158170</td>\n",
       "      <td>-0.163390</td>\n",
       "      <td>0.289200</td>\n",
       "      <td>0.208594</td>\n",
       "    </tr>\n",
       "    <tr>\n",
       "      <th>23</th>\n",
       "      <td>0.103859</td>\n",
       "      <td>-0.187390</td>\n",
       "      <td>0.131134</td>\n",
       "      <td>0.243570</td>\n",
       "      <td>0.303986</td>\n",
       "      <td>0.647397</td>\n",
       "      <td>0.000638</td>\n",
       "      <td>0.082152</td>\n",
       "      <td>0.097657</td>\n",
       "      <td>0.035391</td>\n",
       "    </tr>\n",
       "    <tr>\n",
       "      <th>25</th>\n",
       "      <td>0.135967</td>\n",
       "      <td>-0.392064</td>\n",
       "      <td>0.333909</td>\n",
       "      <td>0.060885</td>\n",
       "      <td>-0.156181</td>\n",
       "      <td>-0.086567</td>\n",
       "      <td>0.188005</td>\n",
       "      <td>-0.047528</td>\n",
       "      <td>0.151937</td>\n",
       "      <td>0.053344</td>\n",
       "    </tr>\n",
       "    <tr>\n",
       "      <th>26</th>\n",
       "      <td>0.216861</td>\n",
       "      <td>-0.111588</td>\n",
       "      <td>-0.333301</td>\n",
       "      <td>0.203564</td>\n",
       "      <td>-0.336561</td>\n",
       "      <td>0.173073</td>\n",
       "      <td>-0.051951</td>\n",
       "      <td>0.247708</td>\n",
       "      <td>0.073754</td>\n",
       "      <td>0.235957</td>\n",
       "    </tr>\n",
       "    <tr>\n",
       "      <th>27</th>\n",
       "      <td>0.297649</td>\n",
       "      <td>-0.168906</td>\n",
       "      <td>-0.110830</td>\n",
       "      <td>-0.144241</td>\n",
       "      <td>0.143802</td>\n",
       "      <td>0.080181</td>\n",
       "      <td>0.170807</td>\n",
       "      <td>0.118260</td>\n",
       "      <td>-0.191307</td>\n",
       "      <td>-0.302927</td>\n",
       "    </tr>\n",
       "    <tr>\n",
       "      <th>28</th>\n",
       "      <td>0.296117</td>\n",
       "      <td>-0.200819</td>\n",
       "      <td>0.021852</td>\n",
       "      <td>-0.180121</td>\n",
       "      <td>0.075678</td>\n",
       "      <td>0.058797</td>\n",
       "      <td>-0.019891</td>\n",
       "      <td>0.134743</td>\n",
       "      <td>-0.035146</td>\n",
       "      <td>0.159047</td>\n",
       "    </tr>\n",
       "    <tr>\n",
       "      <th>29</th>\n",
       "      <td>0.270788</td>\n",
       "      <td>-0.313139</td>\n",
       "      <td>0.077080</td>\n",
       "      <td>-0.031394</td>\n",
       "      <td>-0.048753</td>\n",
       "      <td>-0.020486</td>\n",
       "      <td>-0.184384</td>\n",
       "      <td>0.110701</td>\n",
       "      <td>-0.105323</td>\n",
       "      <td>0.023921</td>\n",
       "    </tr>\n",
       "    <tr>\n",
       "      <th>30</th>\n",
       "      <td>0.196504</td>\n",
       "      <td>-0.162758</td>\n",
       "      <td>-0.249253</td>\n",
       "      <td>0.240905</td>\n",
       "      <td>0.418268</td>\n",
       "      <td>-0.255516</td>\n",
       "      <td>0.026642</td>\n",
       "      <td>0.192504</td>\n",
       "      <td>0.181388</td>\n",
       "      <td>0.211239</td>\n",
       "    </tr>\n",
       "    <tr>\n",
       "      <th>31</th>\n",
       "      <td>0.268382</td>\n",
       "      <td>0.035711</td>\n",
       "      <td>-0.310695</td>\n",
       "      <td>-0.171619</td>\n",
       "      <td>0.066177</td>\n",
       "      <td>0.147072</td>\n",
       "      <td>0.321163</td>\n",
       "      <td>-0.122652</td>\n",
       "      <td>0.090100</td>\n",
       "      <td>0.070298</td>\n",
       "    </tr>\n",
       "  </tbody>\n",
       "</table>\n",
       "</div>"
      ],
      "text/plain": [
       "        PC_1      PC_2      PC_3      PC_4      PC_5      PC_6      PC_7  \\\n",
       "6   0.230507 -0.011616 -0.222060  0.275118 -0.402667 -0.022116 -0.208619   \n",
       "7   0.323624 -0.076590  0.006271 -0.030694 -0.066824 -0.040890  0.006902   \n",
       "10  0.238643  0.021689 -0.089826  0.300531  0.180953 -0.278398 -0.342188   \n",
       "11  0.222637  0.288534 -0.291966 -0.046694 -0.091070  0.058508  0.180848   \n",
       "13  0.072043  0.263156  0.275670  0.404171  0.153397  0.408086 -0.059223   \n",
       "15  0.130568 -0.196910  0.420252  0.164652 -0.274411 -0.171227  0.430873   \n",
       "16  0.103802  0.361913  0.068602  0.237779 -0.386733  0.083520  0.114275   \n",
       "17  0.277535  0.193069  0.156219 -0.206371  0.121718  0.000904  0.119464   \n",
       "18  0.246916  0.189993  0.231269 -0.279538  0.063109 -0.008382 -0.218897   \n",
       "19  0.248189  0.126929  0.294054 -0.120949 -0.076611 -0.080726 -0.496204   \n",
       "20  0.118987  0.267512  0.109224  0.383707  0.284507 -0.391037  0.255970   \n",
       "21  0.228699  0.338031  0.081221 -0.234692  0.012872  0.028078  0.158170   \n",
       "23  0.103859 -0.187390  0.131134  0.243570  0.303986  0.647397  0.000638   \n",
       "25  0.135967 -0.392064  0.333909  0.060885 -0.156181 -0.086567  0.188005   \n",
       "26  0.216861 -0.111588 -0.333301  0.203564 -0.336561  0.173073 -0.051951   \n",
       "27  0.297649 -0.168906 -0.110830 -0.144241  0.143802  0.080181  0.170807   \n",
       "28  0.296117 -0.200819  0.021852 -0.180121  0.075678  0.058797 -0.019891   \n",
       "29  0.270788 -0.313139  0.077080 -0.031394 -0.048753 -0.020486 -0.184384   \n",
       "30  0.196504 -0.162758 -0.249253  0.240905  0.418268 -0.255516  0.026642   \n",
       "31  0.268382  0.035711 -0.310695 -0.171619  0.066177  0.147072  0.321163   \n",
       "\n",
       "        PC_8      PC_9     PC_10  \n",
       "6  -0.235246 -0.302430  0.145419  \n",
       "7  -0.122400 -0.263102 -0.344287  \n",
       "10 -0.283515  0.523624 -0.354112  \n",
       "11 -0.330607 -0.040423  0.039411  \n",
       "13 -0.285806 -0.151784  0.011193  \n",
       "15 -0.245357  0.143276  0.069396  \n",
       "16  0.574538  0.289200 -0.238067  \n",
       "17  0.151623 -0.095534 -0.384899  \n",
       "18  0.064137  0.157378  0.453381  \n",
       "19  0.069403 -0.160308  0.015629  \n",
       "20  0.206243 -0.406271  0.217548  \n",
       "21 -0.163390  0.289200  0.208594  \n",
       "23  0.082152  0.097657  0.035391  \n",
       "25 -0.047528  0.151937  0.053344  \n",
       "26  0.247708  0.073754  0.235957  \n",
       "27  0.118260 -0.191307 -0.302927  \n",
       "28  0.134743 -0.035146  0.159047  \n",
       "29  0.110701 -0.105323  0.023921  \n",
       "30  0.192504  0.181388  0.211239  \n",
       "31 -0.122652  0.090100  0.070298  "
      ]
     },
     "execution_count": 19,
     "metadata": {},
     "output_type": "execute_result"
    }
   ],
   "source": [
    "feature_importance"
   ]
  },
  {
   "cell_type": "code",
   "execution_count": 20,
   "id": "0ce3386d-0896-49a3-bc2a-7756efdb0160",
   "metadata": {},
   "outputs": [
    {
     "data": {
      "text/plain": [
       "95.66314951627743"
      ]
     },
     "execution_count": 20,
     "metadata": {},
     "output_type": "execute_result"
    }
   ],
   "source": [
    "total_var = pca.explained_variance_ratio_.sum() * 100 \n",
    "total_var"
   ]
  },
  {
   "cell_type": "code",
   "execution_count": 21,
   "id": "44b254b5-02f3-45d1-a5de-6f9a0ce5bd4c",
   "metadata": {},
   "outputs": [
    {
     "data": {
      "text/html": [
       "<div>\n",
       "<style scoped>\n",
       "    .dataframe tbody tr th:only-of-type {\n",
       "        vertical-align: middle;\n",
       "    }\n",
       "\n",
       "    .dataframe tbody tr th {\n",
       "        vertical-align: top;\n",
       "    }\n",
       "\n",
       "    .dataframe thead th {\n",
       "        text-align: right;\n",
       "    }\n",
       "</style>\n",
       "<table border=\"1\" class=\"dataframe\">\n",
       "  <thead>\n",
       "    <tr style=\"text-align: right;\">\n",
       "      <th></th>\n",
       "      <th>PC_1</th>\n",
       "      <th>PC_2</th>\n",
       "      <th>PC_3</th>\n",
       "      <th>PC_4</th>\n",
       "      <th>PC_5</th>\n",
       "      <th>PC_6</th>\n",
       "      <th>PC_7</th>\n",
       "      <th>PC_8</th>\n",
       "      <th>PC_9</th>\n",
       "      <th>PC_10</th>\n",
       "    </tr>\n",
       "  </thead>\n",
       "  <tbody>\n",
       "    <tr>\n",
       "      <th>Explained Variance Ratio</th>\n",
       "      <td>0.416549</td>\n",
       "      <td>0.151274</td>\n",
       "      <td>0.112341</td>\n",
       "      <td>0.07288</td>\n",
       "      <td>0.063266</td>\n",
       "      <td>0.059442</td>\n",
       "      <td>0.0248</td>\n",
       "      <td>0.024073</td>\n",
       "      <td>0.017544</td>\n",
       "      <td>0.01446</td>\n",
       "    </tr>\n",
       "  </tbody>\n",
       "</table>\n",
       "</div>"
      ],
      "text/plain": [
       "                              PC_1      PC_2      PC_3     PC_4      PC_5  \\\n",
       "Explained Variance Ratio  0.416549  0.151274  0.112341  0.07288  0.063266   \n",
       "\n",
       "                              PC_6    PC_7      PC_8      PC_9    PC_10  \n",
       "Explained Variance Ratio  0.059442  0.0248  0.024073  0.017544  0.01446  "
      ]
     },
     "execution_count": 21,
     "metadata": {},
     "output_type": "execute_result"
    }
   ],
   "source": [
    "variance_ratios = pd.DataFrame(\n",
    "    pca.explained_variance_ratio_.reshape(1,10),\n",
    "    columns=columns,\n",
    "    index=[\"Explained Variance Ratio\"]\n",
    ")\n",
    "variance_ratios"
   ]
  },
  {
   "cell_type": "code",
   "execution_count": 23,
   "id": "de22d2b1-439f-47fc-bb80-2e1996c9e6db",
   "metadata": {},
   "outputs": [
    {
     "data": {
      "text/plain": [
       "Text(114.0, 0.5, 'Features')"
      ]
     },
     "execution_count": 23,
     "metadata": {},
     "output_type": "execute_result"
    },
    {
     "data": {
      "image/png": "[encoded data removed]",
      "text/plain": [
       "<Figure size 1080x576 with 2 Axes>"
      ]
     },
     "metadata": {
      "needs_background": "light"
     },
     "output_type": "display_data"
    }
   ],
   "source": [
    "# Prueba de concepto \n",
    "plt.figure(figsize=(15,8))\n",
    "sns.heatmap(feature_importance,cmap='coolwarm')\n",
    "plt.title('Principal Components correlation with the features')\n",
    "plt.xlabel('Principal Components')\n",
    "plt.ylabel('Features')"
   ]
  },
  {
   "cell_type": "markdown",
   "id": "3982a06b-9d97-4e1c-8644-30c3aa7d7c9a",
   "metadata": {},
   "source": [
    "# Training model "
   ]
  },
  {
   "cell_type": "code",
   "execution_count": 28,
   "id": "b301843a-4755-4995-af11-0bf21a915337",
   "metadata": {},
   "outputs": [
    {
     "data": {
      "text/plain": [
       "SVC(random_state=42)"
      ]
     },
     "execution_count": 28,
     "metadata": {},
     "output_type": "execute_result"
    }
   ],
   "source": [
    "from sklearn.svm import SVC \n",
    "\n",
    "svc = SVC(random_state = 42)\n",
    "svc.fit(X_train_pca, y_train_enc)"
   ]
  },
  {
   "cell_type": "code",
   "execution_count": 31,
   "id": "4391267e-7ba7-44aa-86fd-9f1a0ac6fc17",
   "metadata": {},
   "outputs": [],
   "source": [
    "y_pred = svc.predict(X_test_pca) # No se evalua con los datos de entrenamiento, no tiene sentido \n",
    "#por eso pongo los datos te test, que serria como poner los datos de mañana, el modelo no los conoce"
   ]
  },
  {
   "cell_type": "code",
   "execution_count": 32,
   "id": "3bba66cf-b93d-456a-896a-069558b7ea16",
   "metadata": {},
   "outputs": [
    {
     "name": "stdout",
     "output_type": "stream",
     "text": [
      "              precision    recall  f1-score   support\n",
      "\n",
      "           0       0.95      0.97      0.96       108\n",
      "           1       0.95      0.90      0.93        63\n",
      "\n",
      "    accuracy                           0.95       171\n",
      "   macro avg       0.95      0.94      0.94       171\n",
      "weighted avg       0.95      0.95      0.95       171\n",
      "\n"
     ]
    }
   ],
   "source": [
    "from sklearn.metrics import classification_report\n",
    "print(\n",
    "    classification_report(y_test_enc,y_pred)\n",
    ")"
   ]
  },
  {
   "cell_type": "code",
   "execution_count": 34,
   "id": "9c5897bd-bd2b-4a0d-9d7a-f04b3bd47702",
   "metadata": {},
   "outputs": [
    {
     "data": {
      "text/plain": [
       "array([1])"
      ]
     },
     "execution_count": 34,
     "metadata": {},
     "output_type": "execute_result"
    }
   ],
   "source": [
    "svc.predict(X_test_pca[100].reshape(1,-1)) #Maligno o no maligno??? 1 o 0 "
   ]
  },
  {
   "cell_type": "code",
   "execution_count": 40,
   "id": "fcc0f172-20d6-4139-8bc4-a5cf1cd7815e",
   "metadata": {},
   "outputs": [
    {
     "data": {
      "text/plain": [
       "array([0, 1, 1, 0, 0, 1, 1, 0, 1, 0, 0, 1, 0, 0, 0, 1, 0, 0, 0, 1, 0, 0,\n",
       "       1, 0, 0, 0, 0, 0, 0, 1, 0, 0, 0, 0, 0, 0, 1, 0, 1, 0, 0, 1, 0, 0,\n",
       "       0, 0, 0, 0, 0, 0, 1, 1, 0, 0, 0, 0, 0, 1, 1, 0, 0, 1, 1, 0, 0, 0,\n",
       "       1, 1, 0, 0, 1, 1, 0, 1, 0, 0, 0, 0, 0, 0, 1, 0, 1, 1, 1, 1, 1, 0,\n",
       "       0, 0, 0, 1, 0, 0, 0, 0, 1, 1, 0, 1, 1, 0, 1, 1, 0, 0, 0, 1, 0, 0,\n",
       "       1, 0, 0, 1, 1, 1, 0, 0, 0, 1, 0, 0, 0, 1, 0, 1, 1, 0, 0, 1, 1, 1,\n",
       "       0, 0, 0, 1, 0, 0, 0, 1, 0, 1, 0, 0, 1, 0, 1, 1, 1, 0, 1, 0, 0, 0,\n",
       "       0, 1, 1, 0, 0, 0, 0, 0, 0, 0, 0, 0, 0, 0, 0, 1, 0])"
      ]
     },
     "execution_count": 40,
     "metadata": {},
     "output_type": "execute_result"
    }
   ],
   "source": [
    "y_pred #la predeiccion para los 171 pacientes"
   ]
  },
  {
   "cell_type": "code",
   "execution_count": 41,
   "id": "44a1f2fc-bcec-4fab-bc30-efe2c9920af1",
   "metadata": {},
   "outputs": [
    {
     "data": {
      "text/plain": [
       "array([0, 1, 1, 0, 0, 1, 1, 1, 0, 0, 0, 1, 0, 1, 0, 1, 0, 0, 0, 1, 1, 0,\n",
       "       1, 0, 0, 0, 0, 0, 0, 1, 0, 0, 0, 0, 0, 0, 1, 0, 1, 0, 0, 1, 0, 0,\n",
       "       0, 0, 0, 0, 0, 0, 1, 1, 0, 0, 0, 0, 0, 1, 1, 0, 0, 1, 1, 0, 0, 0,\n",
       "       1, 1, 0, 0, 1, 1, 0, 1, 0, 0, 0, 1, 0, 0, 1, 0, 1, 1, 1, 1, 1, 1,\n",
       "       0, 0, 0, 0, 0, 0, 0, 0, 1, 1, 0, 1, 1, 0, 1, 1, 0, 0, 0, 1, 0, 0,\n",
       "       1, 0, 0, 1, 0, 1, 0, 0, 0, 1, 0, 0, 0, 1, 0, 1, 1, 0, 0, 1, 1, 1,\n",
       "       0, 0, 0, 1, 0, 0, 0, 1, 0, 1, 0, 0, 1, 0, 1, 1, 1, 0, 1, 0, 0, 0,\n",
       "       0, 1, 1, 0, 0, 0, 0, 0, 0, 0, 1, 0, 0, 0, 0, 1, 0])"
      ]
     },
     "execution_count": 41,
     "metadata": {},
     "output_type": "execute_result"
    }
   ],
   "source": [
    "y_test_enc "
   ]
  },
  {
   "cell_type": "code",
   "execution_count": 49,
   "id": "af25ac48-997c-446d-8427-824ccfb44fce",
   "metadata": {},
   "outputs": [],
   "source": [
    "count = 0 \n",
    "for i in range(171):\n",
    "    if y_pred[i] == y_test_enc[i]:\n",
    "        count = count + 1"
   ]
  },
  {
   "cell_type": "code",
   "execution_count": 51,
   "id": "4786e223-7e95-40ed-86a2-305f11b299c0",
   "metadata": {},
   "outputs": [
    {
     "data": {
      "text/plain": [
       "162"
      ]
     },
     "execution_count": 51,
     "metadata": {},
     "output_type": "execute_result"
    }
   ],
   "source": [
    "count"
   ]
  },
  {
   "cell_type": "code",
   "execution_count": 53,
   "id": "42a3b5db-39cc-4901-9577-435f194aeb58",
   "metadata": {},
   "outputs": [
    {
     "data": {
      "text/plain": [
       "94.73684210526315"
      ]
     },
     "execution_count": 53,
     "metadata": {},
     "output_type": "execute_result"
    }
   ],
   "source": [
    "(count/171)*100"
   ]
  },
  {
   "cell_type": "markdown",
   "id": "f353f0eb-d3ae-4fea-9875-b8c8a4f72d41",
   "metadata": {},
   "source": [
    "# Validacion cruzada"
   ]
  },
  {
   "cell_type": "code",
   "execution_count": 64,
   "id": "9cb9a40e-1836-4ae1-8db7-522dfc763862",
   "metadata": {},
   "outputs": [],
   "source": [
    "from sklearn.model_selection import StratifiedKFold\n",
    "#Para ver si el muestreo "
   ]
  },
  {
   "cell_type": "code",
   "execution_count": 68,
   "id": "55ece474-3563-4556-9d61-3fd58175b539",
   "metadata": {},
   "outputs": [
    {
     "name": "stdout",
     "output_type": "stream",
     "text": [
      "Fold: 1, Class dist.: [224 134], Acc: 0.975\n",
      "Fold: 2, Class dist.: [224 134], Acc: 0.975\n",
      "Fold: 3, Class dist.: [224 134], Acc: 0.95\n",
      "Fold: 4, Class dist.: [224 134], Acc: 0.975\n",
      "Fold: 5, Class dist.: [224 134], Acc: 0.95\n",
      "Fold: 6, Class dist.: [224 134], Acc: 0.975\n",
      "Fold: 7, Class dist.: [224 134], Acc: 1.0\n",
      "Fold: 8, Class dist.: [224 134], Acc: 0.925\n",
      "Fold: 9, Class dist.: [224 135], Acc: 0.9743589743589743\n",
      "Fold: 10, Class dist.: [225 134], Acc: 0.9230769230769231\n",
      "CV accuracy: 0.96 +/- 0.02\n"
     ]
    }
   ],
   "source": [
    "kfold = StratifiedKFold(n_splits = 10).split(X_train_pca, y_train_enc)\n",
    "\n",
    "scores = list()\n",
    "\n",
    "for k, (train, test) in enumerate(kfold):\n",
    "    svc.fit(X_train_pca[train], y_train_enc[train])\n",
    "    \n",
    "    score = svc.score(X_train_pca[test], y_train_enc[test])\n",
    "    scores.append(score)\n",
    "    \n",
    "    print('Fold: {}, Class dist.: {}, Acc: {}'.format(k+1, np.bincount(y_train_enc[train]), score) )\n",
    "\n",
    "print('CV accuracy: {} +/- {}'.format(\n",
    "    np.round(np.mean(scores), 2),\n",
    "    np.round(np.std(scores), 2)\n",
    "))"
   ]
  },
  {
   "cell_type": "code",
   "execution_count": 66,
   "id": "9e17a557-4fd6-4ba1-aa43-4192652d0cff",
   "metadata": {},
   "outputs": [],
   "source": [
    "#CV valor central como el promedio, desviacion de estandar (+/-) es muy bajo "
   ]
  },
  {
   "cell_type": "code",
   "execution_count": 71,
   "id": "db8af449-35a5-4692-9191-867ef7a6e948",
   "metadata": {},
   "outputs": [
    {
     "name": "stdout",
     "output_type": "stream",
     "text": [
      "CV accuracy: 0.96 +/- 0.02\n"
     ]
    }
   ],
   "source": [
    "from sklearn.model_selection import cross_val_score    \n",
    "#Para bases de datos grandes  \n",
    "scores = cross_val_score(\n",
    "    estimator =svc,\n",
    "    X = X_train_pca,\n",
    "    y = y_train_enc,\n",
    "    cv = 10, \n",
    "    n_jobs= 1 # numero de nucleos, para correr bases de datos grandes \n",
    ")\n",
    "print('CV accuracy: {} +/- {}'.format(\n",
    "    np.round(np.mean(scores), 2),\n",
    "    np.round(np.std(scores), 2)\n",
    "))"
   ]
  },
  {
   "cell_type": "markdown",
   "id": "49a533b0-032e-42f6-b12b-8cf1eefe524e",
   "metadata": {},
   "source": [
    "# Curvas de validación "
   ]
  },
  {
   "cell_type": "code",
   "execution_count": 75,
   "id": "e82359d0-7425-4399-93c7-231bba6fc6d4",
   "metadata": {},
   "outputs": [],
   "source": [
    "from sklearn.model_selection import learning_curve\n",
    "\n",
    "train_sizes, train_scores, test_scores = learning_curve(\n",
    "    estimator=svc,\n",
    "    X=X_train_pca,\n",
    "    y=y_train_enc,\n",
    "    train_sizes = np.linspace(0.1,1.0,10),\n",
    "    cv=10,\n",
    "    n_jobs=1\n",
    ")"
   ]
  },
  {
   "cell_type": "code",
   "execution_count": 76,
   "id": "5d62d8fe-6620-454c-b338-23e9021b3b1d",
   "metadata": {},
   "outputs": [],
   "source": [
    "train_mean = np.mean(train_scores, axis=1)\n",
    "train_std  = np.std(train_scores, axis=1)\n",
    "\n",
    "test_mean  = np.mean(test_scores, axis=1)\n",
    "test_std  = np.std(test_scores, axis=1)"
   ]
  },
  {
   "cell_type": "code",
   "execution_count": 77,
   "id": "ff1d57d2-f0d4-4300-9c0a-b99826e0bfef",
   "metadata": {},
   "outputs": [
    {
     "data": {
      "text/plain": [
       "<matplotlib.legend.Legend at 0x7fa411f63290>"
      ]
     },
     "execution_count": 77,
     "metadata": {},
     "output_type": "execute_result"
    },
    {
     "data": {
      "image/png": "[encoded data removed]",
      "text/plain": [
       "<Figure size 432x288 with 1 Axes>"
      ]
     },
     "metadata": {
      "needs_background": "light"
     },
     "output_type": "display_data"
    }
   ],
   "source": [
    "plt.plot(train_sizes, train_mean, color='blue', marker='o', markersize=5, label='training accuracy')\n",
    "plt.fill_between(train_sizes, train_mean + train_std, train_mean - train_std, alpha=0.15, color='blue')\n",
    "\n",
    "plt.plot(train_sizes, test_mean, color='green', marker='s', markersize=5, label='validation accuracy')\n",
    "plt.fill_between(train_sizes, test_mean + test_std, test_mean - test_std, alpha=0.15, color='green')\n",
    "\n",
    "plt.grid()\n",
    "plt.xlabel('Number of training samples')\n",
    "plt.ylabel('Accuracy')\n",
    "plt.legend(loc='lower right')"
   ]
  },
  {
   "cell_type": "code",
   "execution_count": 78,
   "id": "8da78050-9997-4da2-9c25-446c29c5af31",
   "metadata": {},
   "outputs": [],
   "source": [
    "from sklearn.model_selection import GridSearchCV\n",
    "#prueba parametros en ciclos, con los parametros que queramos\n",
    "\n",
    "values = [1e-4, 1e-3, 1e-2, 1e-1, 1, 1e2, 1e3, 1e4] \n",
    "red_parametros = [\n",
    "    {'C': values, 'kernel': ['linear'] },\n",
    "    {'C': values, 'kernel': ['rbf'], 'gamma':values}\n",
    "]\n",
    "\n",
    "\n",
    "gs = GridSearchCV(\n",
    "    estimator  = svc,\n",
    "    param_grid = red_parametros,\n",
    "    scoring    = 'accuracy',\n",
    "    cv         = 10,\n",
    "    n_jobs     = -1\n",
    ")"
   ]
  },
  {
   "cell_type": "code",
   "execution_count": 79,
   "id": "f8a1f07e-04d8-4af4-bf76-2299f73905f1",
   "metadata": {},
   "outputs": [
    {
     "name": "stdout",
     "output_type": "stream",
     "text": [
      "0.9698076923076921\n",
      "{'C': 1000.0, 'gamma': 0.001, 'kernel': 'rbf'}\n"
     ]
    }
   ],
   "source": [
    "gs = gs.fit(X_train_scaled, y_train_enc)\n",
    "print(gs.best_score_)\n",
    "print(gs.best_params_)"
   ]
  },
  {
   "cell_type": "code",
   "execution_count": null,
   "id": "b81265e3-c95c-4548-aeac-32ac23eb506f",
   "metadata": {},
   "outputs": [],
   "source": []
  }
 ],
 "metadata": {
  "environment": {
   "kernel": "python3",
   "name": "common-cpu.m91",
   "type": "gcloud",
   "uri": "gcr.io/deeplearning-platform-release/base-cpu:m91"
  },
  "kernelspec": {
   "display_name": "Python 3",
   "language": "python",
   "name": "python3"
  },
  "language_info": {
   "codemirror_mode": {
    "name": "ipython",
    "version": 3
   },
   "file_extension": ".py",
   "mimetype": "text/x-python",
   "name": "python",
   "nbconvert_exporter": "python",
   "pygments_lexer": "ipython3",
   "version": "3.7.12"
  }
 },
 "nbformat": 4,
 "nbformat_minor": 5
}
